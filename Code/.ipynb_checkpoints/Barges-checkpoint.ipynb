{
 "cells": [
  {
   "cell_type": "code",
   "execution_count": 1,
   "metadata": {
    "scrolled": true
   },
   "outputs": [
    {
     "name": "stdout",
     "output_type": "stream",
     "text": [
      "C:\\Users\\Frank\\Jupyter Notebook\\Udacity\\dataScienceBlog\\Data\n"
     ]
    }
   ],
   "source": [
    "cd ../Data"
   ]
  },
  {
   "cell_type": "code",
   "execution_count": 2,
   "metadata": {},
   "outputs": [],
   "source": [
    "import pandas as pd\n",
    "import numpy as np\n",
    "import seaborn as sns\n",
    "import matplotlib.pyplot as plt\n",
    "\n",
    "import statsmodels.api as sm\n",
    "from scipy import stats\n",
    "\n",
    "from sklearn.naive_bayes import GaussianNB\n",
    "from sklearn.ensemble import RandomForestClassifier\n",
    "from sklearn.svm import SVC\n",
    "\n",
    "from sklearn.model_selection import GridSearchCV\n",
    "from sklearn.multioutput import MultiOutputClassifier\n",
    "from sklearn.pipeline import Pipeline\n",
    "\n",
    "from sklearn.metrics import accuracy_score\n",
    "from sklearn.model_selection import train_test_split\n",
    "from sklearn.metrics import classification_report\n",
    "\n",
    "from time import time\n"
   ]
  },
  {
   "cell_type": "code",
   "execution_count": 3,
   "metadata": {},
   "outputs": [],
   "source": [
    "df= pd.read_csv('barges.csv')"
   ]
  },
  {
   "cell_type": "markdown",
   "metadata": {},
   "source": [
    "## Analysis\n",
    "\n",
    "For the recommendation of barge voyages, the information of barges are necessary. Barge choices are restricted by the specification of barges like the amount of tonnage it can carry or the waterways it can travel on. For an best prediction this information should be as detailed an complete as possible.\n",
    "\n",
    "In the analysis and clean up phase information about barges are gathered, analysed and cleaned."
   ]
  },
  {
   "cell_type": "code",
   "execution_count": 4,
   "metadata": {
    "scrolled": true
   },
   "outputs": [
    {
     "name": "stdout",
     "output_type": "stream",
     "text": [
      "<class 'pandas.core.frame.DataFrame'>\n",
      "RangeIndex: 595 entries, 0 to 594\n",
      "Data columns (total 8 columns):\n",
      " #   Column        Non-Null Count  Dtype  \n",
      "---  ------        --------------  -----  \n",
      " 0   Unnamed: 0    595 non-null    int64  \n",
      " 1   Name          595 non-null    object \n",
      " 2   capacityTon   370 non-null    float64\n",
      " 3   capacityM3    359 non-null    float64\n",
      " 4   lengthCm      588 non-null    float64\n",
      " 5   widthCm       585 non-null    float64\n",
      " 6   maxDraughtCm  360 non-null    float64\n",
      " 7   minDraughtCm  360 non-null    float64\n",
      "dtypes: float64(6), int64(1), object(1)\n",
      "memory usage: 37.3+ KB\n"
     ]
    }
   ],
   "source": [
    "df.info()"
   ]
  },
  {
   "cell_type": "code",
   "execution_count": 5,
   "metadata": {},
   "outputs": [
    {
     "data": {
      "text/html": [
       "<div>\n",
       "<style scoped>\n",
       "    .dataframe tbody tr th:only-of-type {\n",
       "        vertical-align: middle;\n",
       "    }\n",
       "\n",
       "    .dataframe tbody tr th {\n",
       "        vertical-align: top;\n",
       "    }\n",
       "\n",
       "    .dataframe thead th {\n",
       "        text-align: right;\n",
       "    }\n",
       "</style>\n",
       "<table border=\"1\" class=\"dataframe\">\n",
       "  <thead>\n",
       "    <tr style=\"text-align: right;\">\n",
       "      <th></th>\n",
       "      <th>capacityTon</th>\n",
       "      <th>capacityM3</th>\n",
       "      <th>lengthCm</th>\n",
       "      <th>widthCm</th>\n",
       "      <th>maxDraughtCm</th>\n",
       "      <th>minDraughtCm</th>\n",
       "    </tr>\n",
       "  </thead>\n",
       "  <tbody>\n",
       "    <tr>\n",
       "      <th>0</th>\n",
       "      <td>2673.0</td>\n",
       "      <td>2900.0</td>\n",
       "      <td>10999.0</td>\n",
       "      <td>1145.0</td>\n",
       "      <td>320.0</td>\n",
       "      <td>95.0</td>\n",
       "    </tr>\n",
       "    <tr>\n",
       "      <th>1</th>\n",
       "      <td>1362.0</td>\n",
       "      <td>1500.0</td>\n",
       "      <td>8597.0</td>\n",
       "      <td>950.0</td>\n",
       "      <td>279.0</td>\n",
       "      <td>140.0</td>\n",
       "    </tr>\n",
       "    <tr>\n",
       "      <th>2</th>\n",
       "      <td>NaN</td>\n",
       "      <td>NaN</td>\n",
       "      <td>8100.0</td>\n",
       "      <td>899.0</td>\n",
       "      <td>NaN</td>\n",
       "      <td>NaN</td>\n",
       "    </tr>\n",
       "    <tr>\n",
       "      <th>3</th>\n",
       "      <td>NaN</td>\n",
       "      <td>NaN</td>\n",
       "      <td>8400.0</td>\n",
       "      <td>960.0</td>\n",
       "      <td>NaN</td>\n",
       "      <td>NaN</td>\n",
       "    </tr>\n",
       "    <tr>\n",
       "      <th>4</th>\n",
       "      <td>NaN</td>\n",
       "      <td>NaN</td>\n",
       "      <td>8600.0</td>\n",
       "      <td>1100.0</td>\n",
       "      <td>NaN</td>\n",
       "      <td>NaN</td>\n",
       "    </tr>\n",
       "    <tr>\n",
       "      <th>...</th>\n",
       "      <td>...</td>\n",
       "      <td>...</td>\n",
       "      <td>...</td>\n",
       "      <td>...</td>\n",
       "      <td>...</td>\n",
       "      <td>...</td>\n",
       "    </tr>\n",
       "    <tr>\n",
       "      <th>590</th>\n",
       "      <td>NaN</td>\n",
       "      <td>NaN</td>\n",
       "      <td>NaN</td>\n",
       "      <td>NaN</td>\n",
       "      <td>NaN</td>\n",
       "      <td>NaN</td>\n",
       "    </tr>\n",
       "    <tr>\n",
       "      <th>591</th>\n",
       "      <td>2660.0</td>\n",
       "      <td>3010.0</td>\n",
       "      <td>10988.0</td>\n",
       "      <td>1144.0</td>\n",
       "      <td>325.0</td>\n",
       "      <td>124.0</td>\n",
       "    </tr>\n",
       "    <tr>\n",
       "      <th>592</th>\n",
       "      <td>2789.0</td>\n",
       "      <td>3025.0</td>\n",
       "      <td>11000.0</td>\n",
       "      <td>1145.0</td>\n",
       "      <td>336.0</td>\n",
       "      <td>120.0</td>\n",
       "    </tr>\n",
       "    <tr>\n",
       "      <th>593</th>\n",
       "      <td>2540.0</td>\n",
       "      <td>3387.0</td>\n",
       "      <td>10983.0</td>\n",
       "      <td>1145.0</td>\n",
       "      <td>323.0</td>\n",
       "      <td>110.0</td>\n",
       "    </tr>\n",
       "    <tr>\n",
       "      <th>594</th>\n",
       "      <td>3366.0</td>\n",
       "      <td>3747.0</td>\n",
       "      <td>11000.0</td>\n",
       "      <td>1145.0</td>\n",
       "      <td>382.0</td>\n",
       "      <td>125.0</td>\n",
       "    </tr>\n",
       "  </tbody>\n",
       "</table>\n",
       "<p>595 rows × 6 columns</p>\n",
       "</div>"
      ],
      "text/plain": [
       "     capacityTon  capacityM3  lengthCm  widthCm  maxDraughtCm  minDraughtCm\n",
       "0         2673.0      2900.0   10999.0   1145.0         320.0          95.0\n",
       "1         1362.0      1500.0    8597.0    950.0         279.0         140.0\n",
       "2            NaN         NaN    8100.0    899.0           NaN           NaN\n",
       "3            NaN         NaN    8400.0    960.0           NaN           NaN\n",
       "4            NaN         NaN    8600.0   1100.0           NaN           NaN\n",
       "..           ...         ...       ...      ...           ...           ...\n",
       "590          NaN         NaN       NaN      NaN           NaN           NaN\n",
       "591       2660.0      3010.0   10988.0   1144.0         325.0         124.0\n",
       "592       2789.0      3025.0   11000.0   1145.0         336.0         120.0\n",
       "593       2540.0      3387.0   10983.0   1145.0         323.0         110.0\n",
       "594       3366.0      3747.0   11000.0   1145.0         382.0         125.0\n",
       "\n",
       "[595 rows x 6 columns]"
      ]
     },
     "execution_count": 5,
     "metadata": {},
     "output_type": "execute_result"
    }
   ],
   "source": [
    "df[['capacityTon', 'capacityM3','lengthCm','widthCm','maxDraughtCm','minDraughtCm']]"
   ]
  },
  {
   "cell_type": "markdown",
   "metadata": {},
   "source": [
    "There're 595 barges available. Goal is to create a ship recommendation system. Based on a voyage, from > to, which ship would be recommended? Therefore the following fields are interesting:\n",
    "\n",
    "\n",
    "- capacityTon: How much ton of product a vessel can transport\n",
    "- capacityM3: Hom much volume of a product a vessel can transport\n",
    "- lengthCm: self explanatory\n",
    "- widthCm: self explanatory\n",
    "- maxDraughtCm: The maximum draught under the vessel that's permitted. Is valuable regarding water levels and cargo carrage\n",
    "- minDraughtCm: The maximum draught under the vessel that's permitted. Is valuable regarding water levels and cargo carrage\n",
    "\n",
    "\n",
    "Relevant for planning but out of scope for this assignment\n",
    "Classification: All vessels are barge (inland shipping) equiped to transport wet bulk.\n",
    "yearOfbuild: Interesting but no information\n",
    "yearLastMaintenance: Interesting but no information\n"
   ]
  },
  {
   "cell_type": "code",
   "execution_count": 6,
   "metadata": {},
   "outputs": [],
   "source": [
    "def percentage_empty(variable, df = df):\n",
    "    '''\n",
    "    Function to count the amount of na for a certain information variable.\n",
    "    \n",
    "    input: \n",
    "    Variable - column name of variable\n",
    "    df - dataframe\n",
    "    \n",
    "    output:\n",
    "    percentage and amount non values\n",
    "    '''\n",
    "    na_sum = sum(df[variable].isna())\n",
    "    df_size = df.shape[0]\n",
    "    \n",
    "    amount = \"The amount of non-values of {}:{}\".format(variable,na_sum)\n",
    "    percentage = \"The percentage of non-values of {}:{}\".format(variable,round(na_sum/df_size,2))\n",
    "    \n",
    "    return print(amount), print(percentage);\n",
    "    "
   ]
  },
  {
   "cell_type": "code",
   "execution_count": 7,
   "metadata": {},
   "outputs": [],
   "source": [
    "def correlation_visualization(x,y):\n",
    "    '''\n",
    "    Plotting a regression line between two entities to visualize the correlation\n",
    "    input: \n",
    "    two entities\n",
    "    output: \n",
    "    Visualization\n",
    "    '''\n",
    "    \n",
    "    sns.regplot(data = df, x = x, y = y, scatter_kws = {'alpha': 0.5})\n",
    "    \n",
    "    return plt.title('Relation between {} and {}'.format(x,y));"
   ]
  },
  {
   "cell_type": "code",
   "execution_count": 8,
   "metadata": {},
   "outputs": [],
   "source": [
    "def ols_results(x,y,z,df = df):\n",
    "    '''\n",
    "    Get OLS result from entities in data.\n",
    "    Input:\n",
    "    df - Dataframe used\n",
    "    x - the entity we want to predict\n",
    "    y - the entities we want to use to predict\n",
    "    \n",
    "    '''\n",
    "\n",
    "    df_reg = df.copy()\n",
    "    df_reg = df_reg[df_reg[x].notna()]\n",
    "    df_reg = df_reg[df_reg[y].notna()]\n",
    "\n",
    "\n",
    "    df_reg['intercept'] = 1\n",
    "\n",
    "    logit_mod = sm.OLS(df_reg[x], df_reg[['intercept',y,z]])\n",
    "    results = logit_mod.fit()\n",
    "    \n",
    "    return results.summary()"
   ]
  },
  {
   "cell_type": "code",
   "execution_count": 9,
   "metadata": {},
   "outputs": [
    {
     "name": "stdout",
     "output_type": "stream",
     "text": [
      "The amount of non-values of minDraughtCm:235\n",
      "The percentage of non-values of minDraughtCm:0.39\n"
     ]
    },
    {
     "data": {
      "text/plain": [
       "(None, None)"
      ]
     },
     "execution_count": 9,
     "metadata": {},
     "output_type": "execute_result"
    }
   ],
   "source": [
    "percentage_empty('minDraughtCm',df)"
   ]
  },
  {
   "cell_type": "markdown",
   "metadata": {},
   "source": [
    "Two barges don't have a correct MMSI. We can drop these, or try to find the information online."
   ]
  },
  {
   "cell_type": "markdown",
   "metadata": {},
   "source": [
    "## Barge capacity\n",
    "The barge has a loading capacity. Because this data set is focussed on barge carrying liquid bulk both tonnage as m3 are measured."
   ]
  },
  {
   "cell_type": "code",
   "execution_count": 10,
   "metadata": {
    "scrolled": false
   },
   "outputs": [
    {
     "name": "stdout",
     "output_type": "stream",
     "text": [
      "<class 'pandas.core.frame.DataFrame'>\n",
      "RangeIndex: 595 entries, 0 to 594\n",
      "Data columns (total 2 columns):\n",
      " #   Column       Non-Null Count  Dtype  \n",
      "---  ------       --------------  -----  \n",
      " 0   capacityTon  370 non-null    float64\n",
      " 1   capacityM3   359 non-null    float64\n",
      "dtypes: float64(2)\n",
      "memory usage: 9.4 KB\n"
     ]
    }
   ],
   "source": [
    "df[['capacityTon','capacityM3']].info()"
   ]
  },
  {
   "cell_type": "code",
   "execution_count": 11,
   "metadata": {},
   "outputs": [
    {
     "name": "stdout",
     "output_type": "stream",
     "text": [
      "capacityTon\n",
      "The amount of non-values of capacityTon:225\n",
      "The percentage of non-values of capacityTon:0.38\n",
      "\n",
      "capacityM3\n",
      "The amount of non-values of capacityM3:236\n",
      "The percentage of non-values of capacityM3:0.4\n"
     ]
    },
    {
     "data": {
      "text/plain": [
       "(None, None)"
      ]
     },
     "execution_count": 11,
     "metadata": {},
     "output_type": "execute_result"
    }
   ],
   "source": [
    "print('capacityTon')\n",
    "percentage_empty('capacityTon')\n",
    "print('\\ncapacityM3')\n",
    "percentage_empty('capacityM3')"
   ]
  },
  {
   "cell_type": "markdown",
   "metadata": {},
   "source": [
    "More than a third of the datafields are missing for the barge capacity information. This a significant number, dropping +30% of the data. Still, if we can't fill in the other information with online data or calculations this will be the only answer."
   ]
  },
  {
   "cell_type": "code",
   "execution_count": 12,
   "metadata": {
    "scrolled": true
   },
   "outputs": [
    {
     "data": {
      "text/html": [
       "<div>\n",
       "<style scoped>\n",
       "    .dataframe tbody tr th:only-of-type {\n",
       "        vertical-align: middle;\n",
       "    }\n",
       "\n",
       "    .dataframe tbody tr th {\n",
       "        vertical-align: top;\n",
       "    }\n",
       "\n",
       "    .dataframe thead th {\n",
       "        text-align: right;\n",
       "    }\n",
       "</style>\n",
       "<table border=\"1\" class=\"dataframe\">\n",
       "  <thead>\n",
       "    <tr style=\"text-align: right;\">\n",
       "      <th></th>\n",
       "      <th>capacityTon</th>\n",
       "      <th>capacityM3</th>\n",
       "    </tr>\n",
       "  </thead>\n",
       "  <tbody>\n",
       "    <tr>\n",
       "      <th>count</th>\n",
       "      <td>370.000000</td>\n",
       "      <td>359.000000</td>\n",
       "    </tr>\n",
       "    <tr>\n",
       "      <th>mean</th>\n",
       "      <td>3028.194595</td>\n",
       "      <td>3502.955432</td>\n",
       "    </tr>\n",
       "    <tr>\n",
       "      <th>std</th>\n",
       "      <td>1628.937965</td>\n",
       "      <td>1716.044234</td>\n",
       "    </tr>\n",
       "    <tr>\n",
       "      <th>min</th>\n",
       "      <td>48.000000</td>\n",
       "      <td>643.000000</td>\n",
       "    </tr>\n",
       "    <tr>\n",
       "      <th>25%</th>\n",
       "      <td>1748.250000</td>\n",
       "      <td>1985.000000</td>\n",
       "    </tr>\n",
       "    <tr>\n",
       "      <th>50%</th>\n",
       "      <td>2813.000000</td>\n",
       "      <td>3352.000000</td>\n",
       "    </tr>\n",
       "    <tr>\n",
       "      <th>75%</th>\n",
       "      <td>3457.500000</td>\n",
       "      <td>4135.000000</td>\n",
       "    </tr>\n",
       "    <tr>\n",
       "      <th>max</th>\n",
       "      <td>9950.000000</td>\n",
       "      <td>10220.000000</td>\n",
       "    </tr>\n",
       "  </tbody>\n",
       "</table>\n",
       "</div>"
      ],
      "text/plain": [
       "       capacityTon    capacityM3\n",
       "count   370.000000    359.000000\n",
       "mean   3028.194595   3502.955432\n",
       "std    1628.937965   1716.044234\n",
       "min      48.000000    643.000000\n",
       "25%    1748.250000   1985.000000\n",
       "50%    2813.000000   3352.000000\n",
       "75%    3457.500000   4135.000000\n",
       "max    9950.000000  10220.000000"
      ]
     },
     "execution_count": 12,
     "metadata": {},
     "output_type": "execute_result"
    }
   ],
   "source": [
    "df[['capacityTon','capacityM3']].describe()"
   ]
  },
  {
   "cell_type": "markdown",
   "metadata": {},
   "source": [
    "The capacity of both entities are roughly betwee the 0 - 10 000 with an standard deviation between the 1 600 and 1 700, which can be usefull when cleaning the data."
   ]
  },
  {
   "cell_type": "code",
   "execution_count": 13,
   "metadata": {},
   "outputs": [
    {
     "data": {
      "image/png": "[encoded data removed]",
      "text/plain": [
       "<Figure size 432x288 with 1 Axes>"
      ]
     },
     "metadata": {
      "needs_background": "light"
     },
     "output_type": "display_data"
    }
   ],
   "source": [
    "correlation_visualization('capacityTon','capacityM3');"
   ]
  },
  {
   "cell_type": "markdown",
   "metadata": {},
   "source": [
    "As expected, the correlation between capacityTon and capacityM3 is very high."
   ]
  },
  {
   "cell_type": "markdown",
   "metadata": {},
   "source": [
    "# Barge measurements\n",
    "A barge have a measure, which could have an influence on the capacities. barges are between the 60 and 180 meters in length and 10 to 20 meter in width. This can be found [here](https://www.bureauvoorlichtingbinnenvaart.nl/wp-content/uploads/2021/04/Scheepstypes_BVB_nieuw1.pdf)"
   ]
  },
  {
   "cell_type": "code",
   "execution_count": 14,
   "metadata": {
    "scrolled": false
   },
   "outputs": [
    {
     "name": "stdout",
     "output_type": "stream",
     "text": [
      "<class 'pandas.core.frame.DataFrame'>\n",
      "RangeIndex: 595 entries, 0 to 594\n",
      "Data columns (total 2 columns):\n",
      " #   Column    Non-Null Count  Dtype  \n",
      "---  ------    --------------  -----  \n",
      " 0   lengthCm  588 non-null    float64\n",
      " 1   widthCm   585 non-null    float64\n",
      "dtypes: float64(2)\n",
      "memory usage: 9.4 KB\n"
     ]
    }
   ],
   "source": [
    "df[['lengthCm','widthCm']].info()"
   ]
  },
  {
   "cell_type": "markdown",
   "metadata": {},
   "source": [
    "The data for length and width seems complete. "
   ]
  },
  {
   "cell_type": "code",
   "execution_count": 15,
   "metadata": {},
   "outputs": [
    {
     "data": {
      "text/html": [
       "<div>\n",
       "<style scoped>\n",
       "    .dataframe tbody tr th:only-of-type {\n",
       "        vertical-align: middle;\n",
       "    }\n",
       "\n",
       "    .dataframe tbody tr th {\n",
       "        vertical-align: top;\n",
       "    }\n",
       "\n",
       "    .dataframe thead th {\n",
       "        text-align: right;\n",
       "    }\n",
       "</style>\n",
       "<table border=\"1\" class=\"dataframe\">\n",
       "  <thead>\n",
       "    <tr style=\"text-align: right;\">\n",
       "      <th></th>\n",
       "      <th>lengthCm</th>\n",
       "      <th>widthCm</th>\n",
       "    </tr>\n",
       "  </thead>\n",
       "  <tbody>\n",
       "    <tr>\n",
       "      <th>count</th>\n",
       "      <td>588.000000</td>\n",
       "      <td>585.000000</td>\n",
       "    </tr>\n",
       "    <tr>\n",
       "      <th>mean</th>\n",
       "      <td>10366.064626</td>\n",
       "      <td>1105.193162</td>\n",
       "    </tr>\n",
       "    <tr>\n",
       "      <th>std</th>\n",
       "      <td>1829.599328</td>\n",
       "      <td>180.165170</td>\n",
       "    </tr>\n",
       "    <tr>\n",
       "      <th>min</th>\n",
       "      <td>1996.000000</td>\n",
       "      <td>660.000000</td>\n",
       "    </tr>\n",
       "    <tr>\n",
       "      <th>25%</th>\n",
       "      <td>8589.250000</td>\n",
       "      <td>960.000000</td>\n",
       "    </tr>\n",
       "    <tr>\n",
       "      <th>50%</th>\n",
       "      <td>10990.000000</td>\n",
       "      <td>1140.000000</td>\n",
       "    </tr>\n",
       "    <tr>\n",
       "      <th>75%</th>\n",
       "      <td>11000.000000</td>\n",
       "      <td>1145.000000</td>\n",
       "    </tr>\n",
       "    <tr>\n",
       "      <th>max</th>\n",
       "      <td>18000.000000</td>\n",
       "      <td>1760.000000</td>\n",
       "    </tr>\n",
       "  </tbody>\n",
       "</table>\n",
       "</div>"
      ],
      "text/plain": [
       "           lengthCm      widthCm\n",
       "count    588.000000   585.000000\n",
       "mean   10366.064626  1105.193162\n",
       "std     1829.599328   180.165170\n",
       "min     1996.000000   660.000000\n",
       "25%     8589.250000   960.000000\n",
       "50%    10990.000000  1140.000000\n",
       "75%    11000.000000  1145.000000\n",
       "max    18000.000000  1760.000000"
      ]
     },
     "execution_count": 15,
     "metadata": {},
     "output_type": "execute_result"
    }
   ],
   "source": [
    "df[['lengthCm','widthCm']].describe()"
   ]
  },
  {
   "cell_type": "code",
   "execution_count": 16,
   "metadata": {
    "scrolled": true
   },
   "outputs": [
    {
     "data": {
      "image/png": "[encoded data removed]",
      "text/plain": [
       "<Figure size 432x288 with 1 Axes>"
      ]
     },
     "metadata": {
      "needs_background": "light"
     },
     "output_type": "display_data"
    }
   ],
   "source": [
    "sns.boxplot(data = df, x = 'lengthCm')\n",
    "plt.title('Boxplot of barge lengths');"
   ]
  },
  {
   "cell_type": "markdown",
   "metadata": {},
   "source": [
    "Overall the lengths seems to be okay. There is an outlier for the largest barge, with 18000 cm (180m), but this isn't uncommon. Especially for push barge with push units. A length of 20 - 40 howevers seems to be the push barges, without the push units. This wouldn't be helpfull in recommending a barge. We should check that data."
   ]
  },
  {
   "cell_type": "code",
   "execution_count": 17,
   "metadata": {
    "scrolled": false
   },
   "outputs": [
    {
     "data": {
      "text/plain": [
       "Int64Index([415, 549], dtype='int64')"
      ]
     },
     "execution_count": 17,
     "metadata": {},
     "output_type": "execute_result"
    }
   ],
   "source": [
    "df[df['lengthCm'] < 6000].index"
   ]
  },
  {
   "cell_type": "markdown",
   "metadata": {},
   "source": [
    "This information is unclear. A quick google [search](https://www.google.com/search?q=Hermanna+binnenvaartschip&source=lmns&bih=997&biw=832&rlz=1C1CHBF_nlNL879NL879&hl=nl&sa=X&ved=2ahUKEwiKsre2gIPxAhX0JMUKHSw7AY4Q_AUoAHoECAEQAA) shows that the Hermanna is a push barge. This data should be adjusted as such.\n",
    "\n",
    "The till barge seems incorrect. Should adjust."
   ]
  },
  {
   "cell_type": "code",
   "execution_count": 18,
   "metadata": {
    "scrolled": true
   },
   "outputs": [
    {
     "data": {
      "image/png": "[encoded data removed]",
      "text/plain": [
       "<Figure size 432x288 with 1 Axes>"
      ]
     },
     "metadata": {
      "needs_background": "light"
     },
     "output_type": "display_data"
    }
   ],
   "source": [
    "correlation_visualization('lengthCm','widthCm');"
   ]
  },
  {
   "cell_type": "markdown",
   "metadata": {},
   "source": [
    "As could be expected the length and width of a barge has a strong relationship."
   ]
  },
  {
   "cell_type": "markdown",
   "metadata": {},
   "source": [
    "## Draught\n",
    "The draught of the barge is the room there is between the bottom of the barge and the ground. There's a max and a min. Max meaning when a barg is empty and min when a barge is full."
   ]
  },
  {
   "cell_type": "code",
   "execution_count": 19,
   "metadata": {
    "scrolled": true
   },
   "outputs": [
    {
     "name": "stdout",
     "output_type": "stream",
     "text": [
      "<class 'pandas.core.frame.DataFrame'>\n",
      "RangeIndex: 595 entries, 0 to 594\n",
      "Data columns (total 2 columns):\n",
      " #   Column        Non-Null Count  Dtype  \n",
      "---  ------        --------------  -----  \n",
      " 0   maxDraughtCm  360 non-null    float64\n",
      " 1   minDraughtCm  360 non-null    float64\n",
      "dtypes: float64(2)\n",
      "memory usage: 9.4 KB\n"
     ]
    }
   ],
   "source": [
    "df[['maxDraughtCm','minDraughtCm']].info()"
   ]
  },
  {
   "cell_type": "code",
   "execution_count": 20,
   "metadata": {
    "scrolled": false
   },
   "outputs": [
    {
     "data": {
      "text/html": [
       "<div>\n",
       "<style scoped>\n",
       "    .dataframe tbody tr th:only-of-type {\n",
       "        vertical-align: middle;\n",
       "    }\n",
       "\n",
       "    .dataframe tbody tr th {\n",
       "        vertical-align: top;\n",
       "    }\n",
       "\n",
       "    .dataframe thead th {\n",
       "        text-align: right;\n",
       "    }\n",
       "</style>\n",
       "<table border=\"1\" class=\"dataframe\">\n",
       "  <thead>\n",
       "    <tr style=\"text-align: right;\">\n",
       "      <th></th>\n",
       "      <th>maxDraughtCm</th>\n",
       "      <th>minDraughtCm</th>\n",
       "    </tr>\n",
       "  </thead>\n",
       "  <tbody>\n",
       "    <tr>\n",
       "      <th>count</th>\n",
       "      <td>360.000000</td>\n",
       "      <td>360.000000</td>\n",
       "    </tr>\n",
       "    <tr>\n",
       "      <th>mean</th>\n",
       "      <td>435.536111</td>\n",
       "      <td>134.977778</td>\n",
       "    </tr>\n",
       "    <tr>\n",
       "      <th>std</th>\n",
       "      <td>1579.491410</td>\n",
       "      <td>60.811133</td>\n",
       "    </tr>\n",
       "    <tr>\n",
       "      <th>min</th>\n",
       "      <td>185.000000</td>\n",
       "      <td>64.000000</td>\n",
       "    </tr>\n",
       "    <tr>\n",
       "      <th>25%</th>\n",
       "      <td>315.000000</td>\n",
       "      <td>100.000000</td>\n",
       "    </tr>\n",
       "    <tr>\n",
       "      <th>50%</th>\n",
       "      <td>349.000000</td>\n",
       "      <td>130.000000</td>\n",
       "    </tr>\n",
       "    <tr>\n",
       "      <th>75%</th>\n",
       "      <td>382.000000</td>\n",
       "      <td>155.000000</td>\n",
       "    </tr>\n",
       "    <tr>\n",
       "      <th>max</th>\n",
       "      <td>30300.000000</td>\n",
       "      <td>622.000000</td>\n",
       "    </tr>\n",
       "  </tbody>\n",
       "</table>\n",
       "</div>"
      ],
      "text/plain": [
       "       maxDraughtCm  minDraughtCm\n",
       "count    360.000000    360.000000\n",
       "mean     435.536111    134.977778\n",
       "std     1579.491410     60.811133\n",
       "min      185.000000     64.000000\n",
       "25%      315.000000    100.000000\n",
       "50%      349.000000    130.000000\n",
       "75%      382.000000    155.000000\n",
       "max    30300.000000    622.000000"
      ]
     },
     "execution_count": 20,
     "metadata": {},
     "output_type": "execute_result"
    }
   ],
   "source": [
    "df[['maxDraughtCm','minDraughtCm']].describe()"
   ]
  },
  {
   "cell_type": "markdown",
   "metadata": {},
   "source": [
    "Seems like the max draught has a data entry problem with a max value that is out of proportion. "
   ]
  },
  {
   "cell_type": "code",
   "execution_count": 21,
   "metadata": {
    "scrolled": true
   },
   "outputs": [
    {
     "name": "stdout",
     "output_type": "stream",
     "text": [
      "maxDraughtCm\n",
      "The amount of non-values of maxDraughtCm:235\n",
      "The percentage of non-values of maxDraughtCm:0.39\n",
      "\n",
      "minDraughtCm\n",
      "The amount of non-values of minDraughtCm:235\n",
      "The percentage of non-values of minDraughtCm:0.39\n"
     ]
    },
    {
     "data": {
      "text/plain": [
       "(None, None)"
      ]
     },
     "execution_count": 21,
     "metadata": {},
     "output_type": "execute_result"
    }
   ],
   "source": [
    "print('maxDraughtCm')\n",
    "percentage_empty('maxDraughtCm')\n",
    "print('\\nminDraughtCm')\n",
    "percentage_empty('minDraughtCm')"
   ]
  },
  {
   "cell_type": "markdown",
   "metadata": {},
   "source": [
    "With a third of the data missing, the draught data could be missing with to much."
   ]
  },
  {
   "cell_type": "markdown",
   "metadata": {},
   "source": [
    "## Conclusion\n",
    "\n",
    "- Some barges is missing MMSI data or have not the correct data. Should drop or add data.\n",
    "- A third of the barges is missing capacity data, which is a lot. Capacity is important to decide if cargo can be transported\n",
    "- The measurements are complete. There're two barges with not a lot of info.\n",
    "- A third of the barges is missing draught data and the maxDraught has a outlier.  "
   ]
  },
  {
   "cell_type": "markdown",
   "metadata": {},
   "source": [
    "# Cleaning"
   ]
  },
  {
   "cell_type": "markdown",
   "metadata": {},
   "source": [
    "## Measurement\n",
    "- Drop barge without width\n",
    "- Drop barge with strange lengths (id 415, 549)"
   ]
  },
  {
   "cell_type": "code",
   "execution_count": 22,
   "metadata": {},
   "outputs": [],
   "source": [
    "# Drop barges with empty values\n",
    "df = df.dropna(subset = [\"widthCm\"])"
   ]
  },
  {
   "cell_type": "code",
   "execution_count": 23,
   "metadata": {},
   "outputs": [],
   "source": [
    "# Drop barges with strange lengths\n",
    "df = df.drop(index = [415,549], errors = 'ignore')"
   ]
  },
  {
   "cell_type": "markdown",
   "metadata": {},
   "source": [
    "## Capacity\n",
    "check if capacity can be filled with measurements"
   ]
  },
  {
   "cell_type": "code",
   "execution_count": 24,
   "metadata": {},
   "outputs": [],
   "source": [
    "capTonM3Overlap = df[df['capacityTon'].notna() & df['capacityM3'].notna()]['capacityTon'].count()\n",
    "capTonNotOverlapM3 = df[df['capacityTon'].notna() & df['capacityM3'].isna()]['capacityTon'].count()\n",
    "capM3NotOverlapTon = df[df['capacityTon'].isna() & df['capacityM3'].notna()]['capacityTon'].count()"
   ]
  },
  {
   "cell_type": "code",
   "execution_count": 25,
   "metadata": {},
   "outputs": [
    {
     "name": "stdout",
     "output_type": "stream",
     "text": [
      "In 358 cases the capacity ton and M3 overlap\n",
      "A percentage of 0.61 the fleet has both capacity ton and M3\n",
      "In 0 cases the capacity ton has values but the M3 is null\n",
      "In 10 cases the capacity ton is null but the M3 has values\n"
     ]
    },
    {
     "data": {
      "image/png": "[encoded data removed]",
      "text/plain": [
       "<Figure size 1080x576 with 1 Axes>"
      ]
     },
     "metadata": {
      "needs_background": "light"
     },
     "output_type": "display_data"
    }
   ],
   "source": [
    "#compare tonnage and volumes to see pattern\n",
    "print(\"In {} cases the capacity ton and M3 overlap\".format(capTonM3Overlap))\n",
    "print(\"A percentage of {} the fleet has both capacity ton and M3\".format(round(capTonM3Overlap/df.shape[0],2)))\n",
    "print(\"In {} cases the capacity ton has values but the M3 is null\".format(capM3NotOverlapTon))\n",
    "print(\"In {} cases the capacity ton is null but the M3 has values\".format(capTonNotOverlapM3))\n",
    "\n",
    "plt.figure(figsize=(15,8))\n",
    "ax = sns.histplot(df[\"capacityTon\"],kde=True)\n",
    "sns.histplot(df[\"capacityM3\"], color = 'orange',kde=True)\n",
    "plt.legend(['capacityTon', 'categoryM3'])\n",
    "plt.title('Distribution of capacities for capacityTon and capacityM3')\n",
    "ax.set(xlabel='capacity_amount')\n",
    "\n",
    "plt.show()"
   ]
  },
  {
   "cell_type": "markdown",
   "metadata": {},
   "source": [
    "In more than 90% of the cases the capacity Ton and the capacity M3 overlap. We would expect that a normal distribution from both values would follow the same line, because the tonnage and volume are related to eachother.\n",
    "\n",
    "When searching for a barge, the loading capacity, mainly the tonnage or volume, are important filters. Therefore it's a necassity to have this information filled.\n",
    "\n",
    "During the analysis we've seen a strong relationship between the tonnage and the volume. This could help with filling the na values, but this is only valuable for 10 extra barges. We could also use other dimensions like length, width and depth. Perhaps depth can be deducted from the draught data."
   ]
  },
  {
   "cell_type": "code",
   "execution_count": 26,
   "metadata": {},
   "outputs": [],
   "source": [
    "# Get square meters of barges\n",
    "df['barge_M2'] = df['lengthCm'] * df['widthCm']"
   ]
  },
  {
   "cell_type": "markdown",
   "metadata": {},
   "source": [
    "def categorize_capacity(variable):\n",
    "    '''\n",
    "    Function to group barge capacities. Per 500 unit rounded up actual capacity. \n",
    "    For instance a barge with capacityTon of 1.245 will grouped in 1000, because it can carry 1.000 ton\n",
    "    For instance a barge with capacityM3 of 5.955 will grouped in 5.500, because it can carry 5.500 M3\n",
    "    \n",
    "    input:\n",
    "    variable - list of capacities\n",
    "    output:\n",
    "    cat_list - variables catagorized\n",
    "    '''\n",
    "    \n",
    "    cat_list = []    \n",
    "    \n",
    "    for i in variable:\n",
    "        #if barge hasn't have a capacity fill na\n",
    "        if np.isnan(i):\n",
    "            cat_list.append(np.nan)\n",
    "        else:\n",
    "            # Multiplier for 5000 from 1 to 21 because biggest capacity in fleet is 10.220 m3\n",
    "            for multiplier in list(range(1,22,1)): \n",
    "                treshold = 500 * multiplier\n",
    "                if i < treshold:\n",
    "                    thisSize = treshold  #round off because cargo should fit the barge\n",
    "                    cat_list.append(thisSize)\n",
    "                    break\n",
    "\n",
    "            \n",
    "    return cat_list"
   ]
  },
  {
   "cell_type": "markdown",
   "metadata": {},
   "source": [
    "#catageorize the capacities with unit of 500. for instance: 500ton, 1000ton, 1500ton, etc.\n",
    "df['categoryTon'] = categorize_capacity(df['capacityTon'])\n",
    "df['categoryM3'] = categorize_capacity(df['capacityM3'])"
   ]
  },
  {
   "cell_type": "code",
   "execution_count": 27,
   "metadata": {},
   "outputs": [],
   "source": [
    "def categorizer(variable,maxi,mini):\n",
    "    '''\n",
    "    Function to group barge capacities. Per 500 unit rounded up actual capacity. \n",
    "    For instance a barge with capacityTon of 1.245 will grouped in 1000, because it can carry 1.000 ton\n",
    "    For instance a barge with capacityM3 of 5.955 will grouped in 5.500, because it can carry 5.500 M3\n",
    "    \n",
    "    input:\n",
    "    variable - list of capacities\n",
    "    output:\n",
    "    cat_list - variables catagorized\n",
    "    '''\n",
    "    \n",
    "    cat_list = []    \n",
    "    step = int((maxi - mini) / 20)\n",
    "    \n",
    "    for i in variable:\n",
    "        #if barge hasn't have a capacity fill na\n",
    "        if np.isnan(i):\n",
    "            cat_list.append(np.nan)\n",
    "        else:\n",
    "            # determine treshold based on min and max values\n",
    "            for treshold in list(range(mini,maxi + step ,step)):\n",
    "                if i <= treshold:\n",
    "                    thisSize = treshold  #round off because cargo should fit the barge\n",
    "                    cat_list.append(thisSize)\n",
    "                    break\n",
    "            \n",
    "    return cat_list"
   ]
  },
  {
   "cell_type": "code",
   "execution_count": 28,
   "metadata": {},
   "outputs": [],
   "source": [
    "df['categoryM2'] = categorizer(df['barge_M2'],int(df['barge_M2'].max()),int(df['barge_M2'].min()))"
   ]
  },
  {
   "cell_type": "code",
   "execution_count": 29,
   "metadata": {},
   "outputs": [],
   "source": [
    "#catageorize the capacities with unit of 500. for instance: 500ton, 1000ton, 1500ton, etc.\n",
    "df['categoryTon'] = categorizer(df['capacityTon'],int(df['capacityTon'].max()),int(df['capacityTon'].min()))\n",
    "df['categoryM3'] = categorizer(df['capacityM3'],int(df['capacityM3'].max()),int(df['capacityM3'].min()))"
   ]
  },
  {
   "cell_type": "code",
   "execution_count": 30,
   "metadata": {
    "scrolled": true
   },
   "outputs": [
    {
     "name": "stdout",
     "output_type": "stream",
     "text": [
      "<class 'pandas.core.frame.DataFrame'>\n",
      "Int64Index: 583 entries, 0 to 594\n",
      "Data columns (total 3 columns):\n",
      " #   Column       Non-Null Count  Dtype  \n",
      "---  ------       --------------  -----  \n",
      " 0   categoryTon  368 non-null    float64\n",
      " 1   categoryM3   358 non-null    float64\n",
      " 2   barge_M2     583 non-null    float64\n",
      "dtypes: float64(3)\n",
      "memory usage: 18.2 KB\n"
     ]
    }
   ],
   "source": [
    "df[['categoryTon','categoryM3','barge_M2']].info()"
   ]
  },
  {
   "cell_type": "code",
   "execution_count": 31,
   "metadata": {
    "scrolled": true
   },
   "outputs": [
    {
     "data": {
      "image/png": "[encoded data removed]",
      "text/plain": [
       "<Figure size 432x288 with 2 Axes>"
      ]
     },
     "metadata": {
      "needs_background": "light"
     },
     "output_type": "display_data"
    }
   ],
   "source": [
    "# Create heatmap with correlations to signal possible indicators\n",
    "sns.heatmap(df[['barge_M2','categoryTon','categoryM3','lengthCm','widthCm','minDraughtCm','maxDraughtCm']].corr());"
   ]
  },
  {
   "cell_type": "markdown",
   "metadata": {},
   "source": [
    "There seems to bee a strong correlation between the lenght, width, square meters and capacities. The draught information however doesn's seem to correlate with the other data points. Let's further explore the first."
   ]
  },
  {
   "cell_type": "code",
   "execution_count": 32,
   "metadata": {},
   "outputs": [
    {
     "data": {
      "text/plain": [
       "Text(0.5, 1.0, 'Relation between barge_M2 and categoryTon')"
      ]
     },
     "execution_count": 32,
     "metadata": {},
     "output_type": "execute_result"
    },
    {
     "data": {
      "image/png": "[encoded data removed]",
      "text/plain": [
       "<Figure size 432x288 with 1 Axes>"
      ]
     },
     "metadata": {
      "needs_background": "light"
     },
     "output_type": "display_data"
    }
   ],
   "source": [
    "correlation_visualization('barge_M2','categoryTon')"
   ]
  },
  {
   "cell_type": "code",
   "execution_count": 33,
   "metadata": {},
   "outputs": [
    {
     "data": {
      "text/plain": [
       "Text(0.5, 1.0, 'Relation between barge_M2 and categoryM3')"
      ]
     },
     "execution_count": 33,
     "metadata": {},
     "output_type": "execute_result"
    },
    {
     "data": {
      "image/png": "[encoded data removed]",
      "text/plain": [
       "<Figure size 432x288 with 1 Axes>"
      ]
     },
     "metadata": {
      "needs_background": "light"
     },
     "output_type": "display_data"
    }
   ],
   "source": [
    "correlation_visualization('barge_M2','categoryM3')"
   ]
  },
  {
   "cell_type": "code",
   "execution_count": 34,
   "metadata": {
    "scrolled": true
   },
   "outputs": [
    {
     "data": {
      "text/html": [
       "<table class=\"simpletable\">\n",
       "<caption>OLS Regression Results</caption>\n",
       "<tr>\n",
       "  <th>Dep. Variable:</th>       <td>categoryM3</td>    <th>  R-squared:         </th> <td>   0.945</td> \n",
       "</tr>\n",
       "<tr>\n",
       "  <th>Model:</th>                   <td>OLS</td>       <th>  Adj. R-squared:    </th> <td>   0.945</td> \n",
       "</tr>\n",
       "<tr>\n",
       "  <th>Method:</th>             <td>Least Squares</td>  <th>  F-statistic:       </th> <td>   3060.</td> \n",
       "</tr>\n",
       "<tr>\n",
       "  <th>Date:</th>             <td>Sun, 18 Jul 2021</td> <th>  Prob (F-statistic):</th> <td>1.47e-224</td>\n",
       "</tr>\n",
       "<tr>\n",
       "  <th>Time:</th>                 <td>14:14:05</td>     <th>  Log-Likelihood:    </th> <td> -2659.1</td> \n",
       "</tr>\n",
       "<tr>\n",
       "  <th>No. Observations:</th>      <td>   358</td>      <th>  AIC:               </th> <td>   5324.</td> \n",
       "</tr>\n",
       "<tr>\n",
       "  <th>Df Residuals:</th>          <td>   355</td>      <th>  BIC:               </th> <td>   5336.</td> \n",
       "</tr>\n",
       "<tr>\n",
       "  <th>Df Model:</th>              <td>     2</td>      <th>                     </th>     <td> </td>    \n",
       "</tr>\n",
       "<tr>\n",
       "  <th>Covariance Type:</th>      <td>nonrobust</td>    <th>                     </th>     <td> </td>    \n",
       "</tr>\n",
       "</table>\n",
       "<table class=\"simpletable\">\n",
       "<tr>\n",
       "       <td></td>          <th>coef</th>     <th>std err</th>      <th>t</th>      <th>P>|t|</th>  <th>[0.025</th>    <th>0.975]</th>  \n",
       "</tr>\n",
       "<tr>\n",
       "  <th>intercept</th>   <td>-1067.6801</td> <td>   84.202</td> <td>  -12.680</td> <td> 0.000</td> <td>-1233.277</td> <td> -902.083</td>\n",
       "</tr>\n",
       "<tr>\n",
       "  <th>categoryTon</th> <td>    0.2954</td> <td>    0.032</td> <td>    9.175</td> <td> 0.000</td> <td>    0.232</td> <td>    0.359</td>\n",
       "</tr>\n",
       "<tr>\n",
       "  <th>barge_M2</th>    <td>    0.0003</td> <td> 1.36e-05</td> <td>   23.044</td> <td> 0.000</td> <td>    0.000</td> <td>    0.000</td>\n",
       "</tr>\n",
       "</table>\n",
       "<table class=\"simpletable\">\n",
       "<tr>\n",
       "  <th>Omnibus:</th>       <td>74.991</td> <th>  Durbin-Watson:     </th> <td>   1.715</td> \n",
       "</tr>\n",
       "<tr>\n",
       "  <th>Prob(Omnibus):</th> <td> 0.000</td> <th>  Jarque-Bera (JB):  </th> <td>1122.807</td> \n",
       "</tr>\n",
       "<tr>\n",
       "  <th>Skew:</th>          <td>-0.324</td> <th>  Prob(JB):          </th> <td>1.53e-244</td>\n",
       "</tr>\n",
       "<tr>\n",
       "  <th>Kurtosis:</th>      <td>11.652</td> <th>  Cond. No.          </th> <td>4.99e+07</td> \n",
       "</tr>\n",
       "</table><br/><br/>Notes:<br/>[1] Standard Errors assume that the covariance matrix of the errors is correctly specified.<br/>[2] The condition number is large, 4.99e+07. This might indicate that there are<br/>strong multicollinearity or other numerical problems."
      ],
      "text/plain": [
       "<class 'statsmodels.iolib.summary.Summary'>\n",
       "\"\"\"\n",
       "                            OLS Regression Results                            \n",
       "==============================================================================\n",
       "Dep. Variable:             categoryM3   R-squared:                       0.945\n",
       "Model:                            OLS   Adj. R-squared:                  0.945\n",
       "Method:                 Least Squares   F-statistic:                     3060.\n",
       "Date:                Sun, 18 Jul 2021   Prob (F-statistic):          1.47e-224\n",
       "Time:                        14:14:05   Log-Likelihood:                -2659.1\n",
       "No. Observations:                 358   AIC:                             5324.\n",
       "Df Residuals:                     355   BIC:                             5336.\n",
       "Df Model:                           2                                         \n",
       "Covariance Type:            nonrobust                                         \n",
       "===============================================================================\n",
       "                  coef    std err          t      P>|t|      [0.025      0.975]\n",
       "-------------------------------------------------------------------------------\n",
       "intercept   -1067.6801     84.202    -12.680      0.000   -1233.277    -902.083\n",
       "categoryTon     0.2954      0.032      9.175      0.000       0.232       0.359\n",
       "barge_M2        0.0003   1.36e-05     23.044      0.000       0.000       0.000\n",
       "==============================================================================\n",
       "Omnibus:                       74.991   Durbin-Watson:                   1.715\n",
       "Prob(Omnibus):                  0.000   Jarque-Bera (JB):             1122.807\n",
       "Skew:                          -0.324   Prob(JB):                    1.53e-244\n",
       "Kurtosis:                      11.652   Cond. No.                     4.99e+07\n",
       "==============================================================================\n",
       "\n",
       "Notes:\n",
       "[1] Standard Errors assume that the covariance matrix of the errors is correctly specified.\n",
       "[2] The condition number is large, 4.99e+07. This might indicate that there are\n",
       "strong multicollinearity or other numerical problems.\n",
       "\"\"\""
      ]
     },
     "execution_count": 34,
     "metadata": {},
     "output_type": "execute_result"
    }
   ],
   "source": [
    "ols_results('categoryM3','categoryTon','barge_M2', df)"
   ]
  },
  {
   "cell_type": "code",
   "execution_count": 35,
   "metadata": {},
   "outputs": [
    {
     "data": {
      "text/html": [
       "<table class=\"simpletable\">\n",
       "<caption>OLS Regression Results</caption>\n",
       "<tr>\n",
       "  <th>Dep. Variable:</th>       <td>categoryTon</td>   <th>  R-squared:         </th> <td>   0.868</td> \n",
       "</tr>\n",
       "<tr>\n",
       "  <th>Model:</th>                   <td>OLS</td>       <th>  Adj. R-squared:    </th> <td>   0.867</td> \n",
       "</tr>\n",
       "<tr>\n",
       "  <th>Method:</th>             <td>Least Squares</td>  <th>  F-statistic:       </th> <td>   1164.</td> \n",
       "</tr>\n",
       "<tr>\n",
       "  <th>Date:</th>             <td>Sun, 18 Jul 2021</td> <th>  Prob (F-statistic):</th> <td>1.24e-156</td>\n",
       "</tr>\n",
       "<tr>\n",
       "  <th>Time:</th>                 <td>14:14:05</td>     <th>  Log-Likelihood:    </th> <td> -2799.9</td> \n",
       "</tr>\n",
       "<tr>\n",
       "  <th>No. Observations:</th>      <td>   358</td>      <th>  AIC:               </th> <td>   5606.</td> \n",
       "</tr>\n",
       "<tr>\n",
       "  <th>Df Residuals:</th>          <td>   355</td>      <th>  BIC:               </th> <td>   5617.</td> \n",
       "</tr>\n",
       "<tr>\n",
       "  <th>Df Model:</th>              <td>     2</td>      <th>                     </th>     <td> </td>    \n",
       "</tr>\n",
       "<tr>\n",
       "  <th>Covariance Type:</th>      <td>nonrobust</td>    <th>                     </th>     <td> </td>    \n",
       "</tr>\n",
       "</table>\n",
       "<table class=\"simpletable\">\n",
       "<tr>\n",
       "       <td></td>         <th>coef</th>     <th>std err</th>      <th>t</th>      <th>P>|t|</th>  <th>[0.025</th>    <th>0.975]</th>  \n",
       "</tr>\n",
       "<tr>\n",
       "  <th>intercept</th>  <td> -463.7977</td> <td>  148.377</td> <td>   -3.126</td> <td> 0.002</td> <td> -755.605</td> <td> -171.990</td>\n",
       "</tr>\n",
       "<tr>\n",
       "  <th>categoryM3</th> <td>    0.6488</td> <td>    0.071</td> <td>    9.175</td> <td> 0.000</td> <td>    0.510</td> <td>    0.788</td>\n",
       "</tr>\n",
       "<tr>\n",
       "  <th>barge_M2</th>   <td>    0.0001</td> <td> 3.13e-05</td> <td>    3.477</td> <td> 0.001</td> <td> 4.73e-05</td> <td>    0.000</td>\n",
       "</tr>\n",
       "</table>\n",
       "<table class=\"simpletable\">\n",
       "<tr>\n",
       "  <th>Omnibus:</th>       <td>653.683</td> <th>  Durbin-Watson:     </th>  <td>   1.894</td> \n",
       "</tr>\n",
       "<tr>\n",
       "  <th>Prob(Omnibus):</th> <td> 0.000</td>  <th>  Jarque-Bera (JB):  </th> <td>444049.184</td>\n",
       "</tr>\n",
       "<tr>\n",
       "  <th>Skew:</th>          <td>10.905</td>  <th>  Prob(JB):          </th>  <td>    0.00</td> \n",
       "</tr>\n",
       "<tr>\n",
       "  <th>Kurtosis:</th>      <td>174.152</td> <th>  Cond. No.          </th>  <td>5.94e+07</td> \n",
       "</tr>\n",
       "</table><br/><br/>Notes:<br/>[1] Standard Errors assume that the covariance matrix of the errors is correctly specified.<br/>[2] The condition number is large, 5.94e+07. This might indicate that there are<br/>strong multicollinearity or other numerical problems."
      ],
      "text/plain": [
       "<class 'statsmodels.iolib.summary.Summary'>\n",
       "\"\"\"\n",
       "                            OLS Regression Results                            \n",
       "==============================================================================\n",
       "Dep. Variable:            categoryTon   R-squared:                       0.868\n",
       "Model:                            OLS   Adj. R-squared:                  0.867\n",
       "Method:                 Least Squares   F-statistic:                     1164.\n",
       "Date:                Sun, 18 Jul 2021   Prob (F-statistic):          1.24e-156\n",
       "Time:                        14:14:05   Log-Likelihood:                -2799.9\n",
       "No. Observations:                 358   AIC:                             5606.\n",
       "Df Residuals:                     355   BIC:                             5617.\n",
       "Df Model:                           2                                         \n",
       "Covariance Type:            nonrobust                                         \n",
       "==============================================================================\n",
       "                 coef    std err          t      P>|t|      [0.025      0.975]\n",
       "------------------------------------------------------------------------------\n",
       "intercept   -463.7977    148.377     -3.126      0.002    -755.605    -171.990\n",
       "categoryM3     0.6488      0.071      9.175      0.000       0.510       0.788\n",
       "barge_M2       0.0001   3.13e-05      3.477      0.001    4.73e-05       0.000\n",
       "==============================================================================\n",
       "Omnibus:                      653.683   Durbin-Watson:                   1.894\n",
       "Prob(Omnibus):                  0.000   Jarque-Bera (JB):           444049.184\n",
       "Skew:                          10.905   Prob(JB):                         0.00\n",
       "Kurtosis:                     174.152   Cond. No.                     5.94e+07\n",
       "==============================================================================\n",
       "\n",
       "Notes:\n",
       "[1] Standard Errors assume that the covariance matrix of the errors is correctly specified.\n",
       "[2] The condition number is large, 5.94e+07. This might indicate that there are\n",
       "strong multicollinearity or other numerical problems.\n",
       "\"\"\""
      ]
     },
     "execution_count": 35,
     "metadata": {},
     "output_type": "execute_result"
    }
   ],
   "source": [
    "ols_results('categoryTon','categoryM3','barge_M2',df)"
   ]
  },
  {
   "cell_type": "markdown",
   "metadata": {},
   "source": [
    "For capacity information it seems that the barge square meter is a good indicators for the barges capacity. The categoryTon has a R-squared of 0.864 when indicated by categoryM3 and the squaremeter of the dimensions. Which is good. The categoryM3 is even better with an R-squared of 0.958."
   ]
  },
  {
   "cell_type": "markdown",
   "metadata": {},
   "source": [
    "## Draught\n",
    "\n",
    "min and max draught could be interesting data points if they would offer an indication about the barge capacity or measurements. unfortunately there doesn't seem to be a strong correlation. Because this is the case, we won't consider this information any further in the analysis and prediction."
   ]
  },
  {
   "cell_type": "markdown",
   "metadata": {},
   "source": [
    "### Prediction"
   ]
  },
  {
   "cell_type": "code",
   "execution_count": 36,
   "metadata": {},
   "outputs": [],
   "source": [
    "# Because the new values will be placed based on index, the index has to be reset\n",
    "df.reset_index(drop=True, inplace=True)"
   ]
  },
  {
   "cell_type": "code",
   "execution_count": 37,
   "metadata": {},
   "outputs": [],
   "source": [
    "def train_data():\n",
    "    '''\n",
    "    \n",
    "    '''\n",
    "    tdf = dataframe.copy()\n",
    "    \n",
    "    # remove null values to prevent errors\n",
    "    tdf = tdf[tdf['categoryTon'].notna()]\n",
    "    tdf = tdf[tdf['categoryM3'].notna()]\n",
    "    \n",
    "    #remove outliers from features to enhance the trainingset\n",
    "    tdf = tdf[(np.abs(stats.zscore(tdf[features])) < 3)]\n",
    "    \n",
    "    label = tdf[label]\n",
    "    features = tdf[features]\n",
    "\n",
    "\n",
    "    features_train, features_test, labels_train, labels_test = train_test_split(features, label, test_size=0.2, random_state=42)\n",
    "    \n",
    "    return features_train, features_test, labels_train, labels_test"
   ]
  },
  {
   "cell_type": "code",
   "execution_count": 38,
   "metadata": {},
   "outputs": [],
   "source": [
    "def trainingset(dataframe, label, features = []):\n",
    "    '''\n",
    "    Function to create a trainingset\n",
    "    Input:\n",
    "    Dataframe - Dataframe\n",
    "    Label - column in dataframe of which the values are to be predicted\n",
    "    Features - columns in dataframe that are used to predict labels \n",
    "    '''\n",
    "    \n",
    "    tdf = dataframe.copy()\n",
    "    \n",
    "    # remove null values to prevent errors\n",
    "    tdf = tdf[tdf['categoryTon'].notna()]\n",
    "    tdf = tdf[tdf['categoryM3'].notna()]\n",
    "    \n",
    "    #remove outliers from features to enhance the trainingset\n",
    "    tdf = tdf[(np.abs(stats.zscore(tdf[features])) < 3)]\n",
    "    \n",
    "    label = tdf[label]\n",
    "    features = tdf[features]\n",
    "\n",
    "    features_train, features_test, label_train, label_test = train_test_split(features,label, test_size=0.2)\n",
    "    \n",
    "    return features_train, features_test, label_train, label_test\n",
    "\n",
    "\n",
    "\n",
    "def prediction(clf,dataframe, label, features = []):\n",
    "    '''\n",
    "    Get the accuracy of a prediction based on a classifier model inserted\n",
    "    input:\n",
    "    clf - classifier model to insert. Compatibel with GaussianNB(),SVC(),RandomForestClassifier()\n",
    "    dataframe\n",
    "    Dataframe - Dataframe\n",
    "    Label - column in dataframe of which the values are to be predicted\n",
    "    Features - columns in dataframe that are used to predict labels    \n",
    "    '''\n",
    "\n",
    "    features_train, features_test, label_train, label_test = trainingset(dataframe, label, features)\n",
    "    \n",
    "    clf.fit(features_train, label_train)\n",
    "    pred = clf.predict(features_test)\n",
    "    accuracy = accuracy_score(pred, label_test)\n",
    "    \n",
    "    return clf, accuracy"
   ]
  },
  {
   "cell_type": "code",
   "execution_count": 39,
   "metadata": {},
   "outputs": [
    {
     "data": {
      "image/png": "[encoded data removed]",
      "text/plain": [
       "<Figure size 521.375x360 with 1 Axes>"
      ]
     },
     "metadata": {
      "needs_background": "light"
     },
     "output_type": "display_data"
    }
   ],
   "source": [
    "pred_method = [GaussianNB(),SVC(),RandomForestClassifier()]\n",
    "pred_label = ['categoryM3','categoryTon']\n",
    "cmp_method = {}\n",
    "\n",
    "#create a dictionary with results of different prediction methods\n",
    "for method in pred_method:\n",
    "    for label in pred_label:\n",
    "        if label == 'categoryTon':\n",
    "            clf, acc = prediction(method,df,label,['categoryM3','barge_M2'])\n",
    "            cmp_method_items = {'method': method, 'label': label, 'accuracy':round(acc,2)}\n",
    "        elif label == 'categoryM3':\n",
    "            clf, acc = prediction(method,df,label,['categoryTon','barge_M2'])\n",
    "            cmp_method_items = ({'method': method, 'label': label, 'accuracy':round(acc,2)})\n",
    "    \n",
    "        key = 0\n",
    "        if not cmp_method:\n",
    "            key = 0\n",
    "        else:\n",
    "            key = list(cmp_method.keys())[-1] + 1\n",
    "        cmp_method[key] = cmp_method_items\n",
    "\n",
    "# place dictionary in a dataframe an plot results        \n",
    "methd_df = pd.DataFrame.from_dict(cmp_method, orient='index').sort_values('accuracy')\n",
    "\n",
    "ax = sns.catplot(data=methd_df, x=\"label\", y=\"accuracy\", hue=\"method\", kind=\"bar\", palette=\"Blues_d\")\n",
    "plt.title('Comparison of methods prediction capacity barges');"
   ]
  },
  {
   "cell_type": "markdown",
   "metadata": {},
   "source": [
    "The plot shows that the RandomForestClassifier() is the best method of these three. We should further investigate"
   ]
  },
  {
   "cell_type": "code",
   "execution_count": 40,
   "metadata": {},
   "outputs": [],
   "source": [
    "def build_rfc_model():\n",
    "    '''\n",
    "    Build a model that can search trough and compare parameters for a RandomForrestClassifier\n",
    "    input:\n",
    "    None\n",
    "    output:\n",
    "    GridSearchCV that can be used to fit a model on\n",
    "    '''\n",
    "    \n",
    "    parameters = {\n",
    "                    'n_estimators' : [100,250,500],\n",
    "                    'max_features': ['log2','auto']\n",
    "                 }\n",
    "    ensemble = RandomForestClassifier()\n",
    "    clf = GridSearchCV(ensemble, parameters)\n",
    "\n",
    "    return clf\n",
    "\n",
    "def evaluate_rfc_model(model, features_test, label_test,label):\n",
    "    '''\n",
    "    Evaluation model that takes information and goes through parameters of \n",
    "    the machine learning model to see which are optimal.\n",
    "    Input:\n",
    "    Model - Model build in the build_rfc_function\n",
    "    Features_test - data set for test features\n",
    "    Label_test - data set voor test labels\n",
    "    Output:\n",
    "    Print - the performance of the model based on the scores prediction, reclass and F1\n",
    "    model.best_params_ - best parameters for the model\n",
    "    '''\n",
    "    \n",
    "    label_prediction = model.predict(features_test)\n",
    "    print(classification_report(label_test, label_prediction))\n",
    "    print(model.best_params_)\n",
    "    \n",
    "    \n",
    "    return model.best_params_\n",
    "\n",
    "\n",
    "def process_operator(dataframe,label,features = []):\n",
    "    '''\n",
    "    Function that operates the process to create a model for predictions\n",
    "    Input:\n",
    "    Dataframe - Dataframe\n",
    "    Label - column in dataframe of which the values are to be predicted\n",
    "    Features - columns in dataframe that are used to predict labels \n",
    "    '''\n",
    "    \n",
    "    print('Get trainingset...')\n",
    "    features_train, features_test, label_train, label_test = trainingset(dataframe, label, features)\n",
    "\n",
    "    print('Building model...')\n",
    "    model = build_rfc_model()\n",
    "\n",
    "    print('Training model...')\n",
    "    model.fit(features_train, label_train)\n",
    "\n",
    "    print('Evaluating model...')\n",
    "    rfc_clf = evaluate_rfc_model(model, features_test, label_test, label)\n",
    "    \n",
    "    return rfc_clf"
   ]
  },
  {
   "cell_type": "code",
   "execution_count": 41,
   "metadata": {},
   "outputs": [],
   "source": [
    "def fillNaWithRFC(dataframe,columnsWithNa,label,features = []):\n",
    "    '''\n",
    "    functions to predict missing values based on a RandomForrestClassifier algoritme\n",
    "    and add those to the current dataframe.\n",
    "    input:\n",
    "    '''\n",
    "\n",
    "                                                                         \n",
    "    # Create features for missing categoryM3\n",
    "    featuresClassifier = dataframe[(dataframe[label].isna()) & (dataframe[features[0]].notna())][features]\n",
    "    indexValues = dataframe[(dataframe[label].isna()) & (dataframe[features[0]].notna())][features].index\n",
    "    \n",
    "    \n",
    "    # Create model for prediction\n",
    "    print('start process operator')\n",
    "    clf_parameters = process_operator(dataframe,label,features)\n",
    "    clf_rfc = RandomForestClassifier(max_features = clf_parameters['max_features'], \n",
    "                                    n_estimators = clf_parameters['n_estimators'])\n",
    "            \n",
    "    features_train, features_test, label_train, label_test = trainingset(dataframe, \n",
    "                                                                         label,\n",
    "                                                                         features)\n",
    "    # Fit model\n",
    "    clf_rfc.fit(features_train, label_train)                                                                                                              \n",
    "    clf_rfc = clf_rfc.predict(featuresClassifier)\n",
    "\n",
    "    # Make count for index list_val\n",
    "    count = 0\n",
    "    indexColumnWithNa = dataframe.columns.get_loc(columnsWithNa)\n",
    "    indexColumnWithLabel = dataframe.columns.get_loc(label)\n",
    "\n",
    "    for ind in indexValues:\n",
    "        # Add list_val to df.categoryM3 based on index list_val\n",
    "        dataframe.iloc[ind,indexColumnWithNa] = clf_rfc[count].astype(float)\n",
    "        dataframe.iloc[ind,indexColumnWithLabel] = clf_rfc[count].astype(float)\n",
    "        count += 1"
   ]
  },
  {
   "cell_type": "code",
   "execution_count": null,
   "metadata": {
    "scrolled": true
   },
   "outputs": [
    {
     "name": "stdout",
     "output_type": "stream",
     "text": [
      "start process operator\n",
      "Get trainingset...\n",
      "Building model...\n",
      "Training model...\n"
     ]
    },
    {
     "name": "stderr",
     "output_type": "stream",
     "text": [
      "C:\\Users\\Frank\\Anaconda3\\lib\\site-packages\\sklearn\\model_selection\\_split.py:668: UserWarning: The least populated class in y has only 2 members, which is less than n_splits=5.\n",
      "  % (min_groups, self.n_splits)), UserWarning)\n"
     ]
    }
   ],
   "source": [
    "fillNaWithRFC(df,'capacityM3','categoryM3',['categoryTon','barge_M2'])"
   ]
  },
  {
   "cell_type": "code",
   "execution_count": null,
   "metadata": {},
   "outputs": [],
   "source": [
    "fillNaWithRFC(df,'capacityM3','categoryM3',['barge_M2'])"
   ]
  },
  {
   "cell_type": "code",
   "execution_count": null,
   "metadata": {},
   "outputs": [],
   "source": [
    "fillNaWithRFC(df,'capacityTon','categoryTon',['categoryM3','barge_M2'])"
   ]
  },
  {
   "cell_type": "code",
   "execution_count": null,
   "metadata": {},
   "outputs": [],
   "source": [
    "capTonM3Overlap = df[df['capacityTon'].notna() & df['capacityM3'].notna()]['capacityTon'].count()\n",
    "capTonNotOverlapM3 = df[df['capacityTon'].notna() & df['capacityM3'].isna()]['capacityTon'].count()\n",
    "capM3NotOverlapTon = df[df['capacityTon'].isna() & df['capacityM3'].notna()]['capacityTon'].count()"
   ]
  },
  {
   "cell_type": "code",
   "execution_count": null,
   "metadata": {
    "scrolled": true
   },
   "outputs": [],
   "source": [
    "#compare tonnage and volumes to see pattern\n",
    "print(\"In {} cases the capacity ton and M3 overlap\".format(capTonM3Overlap))\n",
    "print(\"A percentage of {} the fleet has both capacity ton and M3\".format(round(capTonM3Overlap/df.shape[0],2) * 100))\n",
    "print(\"In {} cases the capacity ton has values but the M3 is null\".format(capM3NotOverlapTon))\n",
    "print(\"In {} cases the capacity ton is null but the M3 has values\".format(capTonNotOverlapM3))\n",
    "\n",
    "\n",
    "plt.figure(figsize=(15,8))\n",
    "ax = sns.histplot(df[\"capacityTon\"],kde=True, color = 'green')\n",
    "sns.histplot(df[\"capacityM3\"], color = 'red',kde=True)\n",
    "plt.legend(['capacityTon', 'categoryM3'])\n",
    "plt.title('Distribution of capacities for capacityTon and capacityM3')\n",
    "ax.set(xlabel='capacity_amount')\n",
    "\n",
    "plt.show()"
   ]
  },
  {
   "cell_type": "code",
   "execution_count": null,
   "metadata": {},
   "outputs": [],
   "source": [
    "df[df['capacityM3'].isin(set(df['categoryM3']))]"
   ]
  },
  {
   "cell_type": "code",
   "execution_count": null,
   "metadata": {},
   "outputs": [],
   "source": [
    "barge_m2 = df['barge_M2'] / 100"
   ]
  },
  {
   "cell_type": "code",
   "execution_count": null,
   "metadata": {},
   "outputs": [],
   "source": [
    "sns.boxplot(barge_m2)\n",
    "plt.title('Boxplot of barge square meter');"
   ]
  },
  {
   "cell_type": "code",
   "execution_count": null,
   "metadata": {},
   "outputs": [],
   "source": [
    "np.arange(df['barge_M2'].min(),df['barge_M2'].max(),df['barge_M2'].min() - df['barge_M2'].max())"
   ]
  },
  {
   "cell_type": "code",
   "execution_count": null,
   "metadata": {},
   "outputs": [],
   "source": [
    "maxi = int(df['barge_M2'].max())\n",
    "mini = int(df['barge_M2'].min())\n",
    "step = int(df['barge_M2'].max() - df['barge_M2'].min())"
   ]
  },
  {
   "cell_type": "code",
   "execution_count": null,
   "metadata": {},
   "outputs": [],
   "source": [
    "list(range(mini,maxi,step))"
   ]
  },
  {
   "cell_type": "code",
   "execution_count": null,
   "metadata": {
    "scrolled": false
   },
   "outputs": [],
   "source": [
    "df['barge_M2'].describe()"
   ]
  },
  {
   "cell_type": "code",
   "execution_count": null,
   "metadata": {},
   "outputs": [],
   "source": [
    "categorizer(df['barge_M2'],int(df['barge_M2'].max()),int(df['barge_M2'].min()))"
   ]
  },
  {
   "cell_type": "code",
   "execution_count": null,
   "metadata": {},
   "outputs": [],
   "source": [
    "df['categoryM2'] = categorizer(df['barge_M2'],int(df['barge_M2'].max()),int(df['barge_M2'].min()))"
   ]
  },
  {
   "cell_type": "code",
   "execution_count": null,
   "metadata": {},
   "outputs": [],
   "source": [
    "df.columns"
   ]
  },
  {
   "cell_type": "markdown",
   "metadata": {},
   "source": [
    "## Clean up"
   ]
  },
  {
   "cell_type": "code",
   "execution_count": null,
   "metadata": {},
   "outputs": [],
   "source": [
    "clean_df = df[['Id','Name','ENI','MMSI','capacityTon','capacityM3','lengthCm','widthCm','maxDraughtCm','minDraughtCm','tonnageCertificates','flag','avgFuelConsumptionLtrKm','categoryTon',\n",
    "       'categoryM3', 'categoryM2']]"
   ]
  },
  {
   "cell_type": "code",
   "execution_count": null,
   "metadata": {
    "scrolled": false
   },
   "outputs": [],
   "source": [
    "clean_df.info()"
   ]
  },
  {
   "cell_type": "code",
   "execution_count": null,
   "metadata": {},
   "outputs": [],
   "source": [
    "#databaseAuthName = 'root'\n",
    "#databaseAuthPassword = 'Nb++Nl7985'"
   ]
  },
  {
   "cell_type": "code",
   "execution_count": null,
   "metadata": {},
   "outputs": [],
   "source": [
    "#import pymysql\n",
    "#from sqlalchemy import create_engine\n",
    "\n",
    "#db_url = 'mysql+pymysql://{}:{}@localhost/ship_recommendation'.format(databaseAuthName,databaseAuthPassword)\n",
    "#db_shipRecommendation = create_engine(db_url)\n",
    "\n",
    "#clean_df.to_sql('ships',con = db_shipRecommendation, if_exists = 'replace')"
   ]
  },
  {
   "cell_type": "code",
   "execution_count": null,
   "metadata": {},
   "outputs": [],
   "source": [
    "#dmmy = df[['categoryTon',\n",
    "       'categoryM3', 'categoryM2','flag']].astype(object)"
   ]
  },
  {
   "cell_type": "code",
   "execution_count": null,
   "metadata": {},
   "outputs": [],
   "source": [
    "#dmmy = pd.get_dummies(dmmy[['categoryTon',\n",
    "       'categoryM3', 'categoryM2','flag']])"
   ]
  },
  {
   "cell_type": "code",
   "execution_count": null,
   "metadata": {},
   "outputs": [],
   "source": [
    "#np.dot(dmmy,np.transpose(dmmy)).index"
   ]
  }
 ],
 "metadata": {
  "kernelspec": {
   "display_name": "Python 3",
   "language": "python",
   "name": "python3"
  },
  "language_info": {
   "codemirror_mode": {
    "name": "ipython",
    "version": 3
   },
   "file_extension": ".py",
   "mimetype": "text/x-python",
   "name": "python",
   "nbconvert_exporter": "python",
   "pygments_lexer": "ipython3",
   "version": "3.7.10"
  }
 },
 "nbformat": 4,
 "nbformat_minor": 2
}
