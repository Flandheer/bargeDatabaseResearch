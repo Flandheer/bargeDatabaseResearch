{
 "cells": [
  {
   "cell_type": "code",
   "execution_count": 1,
   "metadata": {
    "scrolled": true
   },
   "outputs": [
    {
     "name": "stdout",
     "output_type": "stream",
     "text": [
      "C:\\Users\\Frank\\Jupyter Notebook\\Udacity\\ship_recommendation\\Data\n"
     ]
    }
   ],
   "source": [
    "cd ../Data"
   ]
  },
  {
   "cell_type": "code",
   "execution_count": 99,
   "metadata": {},
   "outputs": [],
   "source": [
    "import pandas as pd\n",
    "import numpy as np\n",
    "import seaborn as sns\n",
    "import matplotlib.pyplot as plt\n",
    "\n",
    "import statsmodels.api as sm\n",
    "from scipy import stats\n",
    "\n",
    "from sklearn.naive_bayes import GaussianNB\n",
    "from sklearn.ensemble import RandomForestClassifier\n",
    "from sklearn.svm import SVC\n",
    "\n",
    "from sklearn.model_selection import GridSearchCV\n",
    "from sklearn.multioutput import MultiOutputClassifier\n",
    "from sklearn.pipeline import Pipeline\n",
    "\n",
    "from sklearn.metrics import accuracy_score\n",
    "from sklearn.model_selection import train_test_split\n",
    "from sklearn.metrics import classification_report\n",
    "\n",
    "from time import time\n"
   ]
  },
  {
   "cell_type": "code",
   "execution_count": 3,
   "metadata": {},
   "outputs": [],
   "source": [
    "df = pd.read_csv('ships.csv')"
   ]
  },
  {
   "cell_type": "markdown",
   "metadata": {},
   "source": [
    "## Analysis\n",
    "\n",
    "For the recommendation of barge voyages, the information of barges are necessary. Barge choices are restricted by the specification of barges like the amount of tonnage it can carry or the waterways it can travel on. For an best prediction this information should be as detailed an complete as possible.\n",
    "\n",
    "In the analysis and clean up phase information about barges are gathered, analysed and cleaned."
   ]
  },
  {
   "cell_type": "code",
   "execution_count": 4,
   "metadata": {
    "scrolled": true
   },
   "outputs": [
    {
     "name": "stdout",
     "output_type": "stream",
     "text": [
      "<class 'pandas.core.frame.DataFrame'>\n",
      "RangeIndex: 595 entries, 0 to 594\n",
      "Data columns (total 91 columns):\n",
      " #   Column                   Non-Null Count  Dtype  \n",
      "---  ------                   --------------  -----  \n",
      " 0   Id                       595 non-null    int64  \n",
      " 1   externalId               0 non-null      float64\n",
      " 2   abbreviation             1 non-null      object \n",
      " 3   Name                     595 non-null    object \n",
      " 4   costCenterId             0 non-null      float64\n",
      " 5   ENI                      595 non-null    int64  \n",
      " 6   MMSI                     560 non-null    float64\n",
      " 7   TypeId                   23 non-null     float64\n",
      " 8   LanguageId               398 non-null    float64\n",
      " 9   classification           0 non-null      float64\n",
      " 10  yearOfBuild              0 non-null      float64\n",
      " 11  yearLastMaintenance      0 non-null      float64\n",
      " 12  Deadweight               595 non-null    float64\n",
      " 13  capacityTon              370 non-null    float64\n",
      " 14  capacityM3               359 non-null    float64\n",
      " 15  capacityTeu              0 non-null      float64\n",
      " 16  lengthCm                 588 non-null    float64\n",
      " 17  widthCm                  585 non-null    float64\n",
      " 18  maxDraughtCm             360 non-null    float64\n",
      " 19  minDraughtCm             360 non-null    float64\n",
      " 20  fuelType                 0 non-null      float64\n",
      " 21  avgVelocityEmptyKmH      0 non-null      float64\n",
      " 22  avgVelocityFullKmH       0 non-null      float64\n",
      " 23  avgFuelConsumptionLtrH   0 non-null      float64\n",
      " 24  avgFuelConsumptionLtrKm  46 non-null     float64\n",
      " 25  bobbyCat                 398 non-null    object \n",
      " 26  sailors                  0 non-null      float64\n",
      " 27  memo                     0 non-null      float64\n",
      " 28  tonnageCertificates      226 non-null    object \n",
      " 29  numReeferConnections     0 non-null      float64\n",
      " 30  dropline                 315 non-null    float64\n",
      " 31  operator_id              277 non-null    float64\n",
      " 32  invoiceContact_id        0 non-null      float64\n",
      " 33  Deprecated               595 non-null    bool   \n",
      " 34  availableMonday          595 non-null    bool   \n",
      " 35  availableTuesday         595 non-null    bool   \n",
      " 36  availableWednesday       595 non-null    bool   \n",
      " 37  availableThursday        595 non-null    bool   \n",
      " 38  availableFriday          595 non-null    bool   \n",
      " 39  availableSaturday        595 non-null    bool   \n",
      " 40  availableSunday          595 non-null    bool   \n",
      " 41  availableHoursADay       406 non-null    float64\n",
      " 42  defaultAvailability      595 non-null    bool   \n",
      " 43  availableDayNight        595 non-null    int64  \n",
      " 44  insurer                  0 non-null      float64\n",
      " 45  vatReference             0 non-null      float64\n",
      " 46  cocReference             0 non-null      float64\n",
      " 47  iban                     0 non-null      float64\n",
      " 48  workingHoursId           0 non-null      float64\n",
      " 49  layerRemark              0 non-null      float64\n",
      " 50  adn                      398 non-null    object \n",
      " 51  trussing                 0 non-null      float64\n",
      " 52  cellGuides               398 non-null    object \n",
      " 53  hasShutters              398 non-null    object \n",
      " 54  shuttersType             0 non-null      float64\n",
      " 55  deckLoad                 0 non-null      float64\n",
      " 56  flag                     398 non-null    object \n",
      " 57  NumRatings               595 non-null    int64  \n",
      " 58  General                  0 non-null      float64\n",
      " 59  Timeliness               0 non-null      float64\n",
      " 60  Communication            0 non-null      float64\n",
      " 61  CargoAvailability        0 non-null      float64\n",
      " 62  WaitingTime              0 non-null      float64\n",
      " 63  Paperwork                0 non-null      float64\n",
      " 64  Payment                  0 non-null      float64\n",
      " 65  Updated                  595 non-null    object \n",
      " 66  createdOn                595 non-null    object \n",
      " 67  coupledShipId            0 non-null      float64\n",
      " 68  isCoupled                595 non-null    bool   \n",
      " 69  showLastProducts         595 non-null    bool   \n",
      " 70  avgSpeedUpstreamKmH      0 non-null      float64\n",
      " 71  avgSpeedDownstreamKmH    0 non-null      float64\n",
      " 72  licensePlate             0 non-null      float64\n",
      " 73  trackTraceProvider       0 non-null      float64\n",
      " 74  maxCranesOnQuay          0 non-null      float64\n",
      " 75  numberOfCranes           0 non-null      float64\n",
      " 76  isDummy                  595 non-null    bool   \n",
      " 77  bic                      0 non-null      float64\n",
      " 78  accountName              0 non-null      float64\n",
      " 79  trackerId                0 non-null      float64\n",
      " 80  owner_id                 350 non-null    float64\n",
      " 81  mmsiUpdated              560 non-null    object \n",
      " 82  retrieveActuals          595 non-null    bool   \n",
      " 83  imo                      0 non-null      float64\n",
      " 84  tracking                 595 non-null    bool   \n",
      " 85  orangeStartAt            1 non-null      float64\n",
      " 86  redStartAt               1 non-null      float64\n",
      " 87  nextCall_id              42 non-null     float64\n",
      " 88  maxTonBallast            0 non-null      float64\n",
      " 89  airDraft                 0 non-null      float64\n",
      " 90  corridor                 0 non-null      float64\n",
      "dtypes: bool(14), float64(62), int64(4), object(11)\n",
      "memory usage: 366.2+ KB\n"
     ]
    }
   ],
   "source": [
    "df.info()"
   ]
  },
  {
   "cell_type": "markdown",
   "metadata": {},
   "source": [
    "There're 595 barges available. Goal is to create a ship recommendation system. Based on a voyage, from > to, which ship would be recommended? Therefore the following fields are interesting:\n",
    "\n",
    "- Id: Identification number of record\n",
    "Name: Name of vessel to present\n",
    "- ENI: European Identification Number necessary when acquiring a vessel for a voyage\n",
    "- MMSI: Tracking number\n",
    "- capacityTon: How much ton of product a vessel can transport\n",
    "- capacityM3: Hom much volume of a product a vessel can transport\n",
    "- lengthCm: self explanatory\n",
    "- widthCm: self explanatory\n",
    "- maxDraughtCm: The maximum draught under the vessel that's permitted. Is valuable regarding water levels and cargo carrage\n",
    "- minDraughtCm: The maximum draught under the vessel that's permitted. Is valuable regarding water levels and cargo carrage\n",
    "- tonnageCertificates: The draught in Cm per tonnage in vessel\n",
    "- workingHoursId: Amount of hours a vessel can be put to use per day\n",
    "- avgFuelConsumptionLtrKm: How much fuel is consumed by the vessel per kilometer traveled\n",
    "\n",
    "\n",
    "Relevant for planning but out of scope for this assignment\n",
    "Classification: All vessels are barge (inland shipping) equiped to transport wet bulk.\n",
    "yearOfbuild: Interesting but no information\n",
    "yearLastMaintenance: Interesting but no information\n"
   ]
  },
  {
   "cell_type": "code",
   "execution_count": 5,
   "metadata": {},
   "outputs": [],
   "source": [
    "def percentage_empty(variable, df = df):\n",
    "    '''\n",
    "    Function to count the amount of na for a certain information variable.\n",
    "    \n",
    "    input: \n",
    "    Variable - column name of variable\n",
    "    df - dataframe\n",
    "    \n",
    "    output:\n",
    "    percentage and amount non values\n",
    "    '''\n",
    "    na_sum = sum(df[variable].isna())\n",
    "    df_size = df.shape[0]\n",
    "    \n",
    "    amount = \"The amount of non-values of {}:{}\".format(variable,na_sum)\n",
    "    percentage = \"The percentage of non-values of {}:{}\".format(variable,round(na_sum/df_size,2))\n",
    "    \n",
    "    return print(amount), print(percentage);\n",
    "    "
   ]
  },
  {
   "cell_type": "code",
   "execution_count": 6,
   "metadata": {},
   "outputs": [],
   "source": [
    "def correlation_visualization(x,y):\n",
    "    '''\n",
    "    Plotting a regression line between two entities to visualize the correlation\n",
    "    input: \n",
    "    two entities\n",
    "    output: \n",
    "    Visualization\n",
    "    '''\n",
    "    \n",
    "    sns.regplot(data = df, x = x, y = y, scatter_kws = {'alpha': 0.5})\n",
    "    \n",
    "    return plt.title('Relation between {} and {}'.format(x,y));"
   ]
  },
  {
   "cell_type": "code",
   "execution_count": 7,
   "metadata": {},
   "outputs": [],
   "source": [
    "def ols_results(x,y,z,df = df):\n",
    "    '''\n",
    "    Get OLS result from entities in data.\n",
    "    Input:\n",
    "    df - Dataframe used\n",
    "    x - the entity we want to predict\n",
    "    y - the entities we want to use to predict\n",
    "    \n",
    "    '''\n",
    "\n",
    "    df_reg = df.copy()\n",
    "    df_reg = df_reg[df_reg[x].notna()]\n",
    "    df_reg = df_reg[df_reg[y].notna()]\n",
    "\n",
    "\n",
    "    df_reg['intercept'] = 1\n",
    "\n",
    "    logit_mod = sm.OLS(df_reg[x], df_reg[['intercept',y,z]])\n",
    "    results = logit_mod.fit()\n",
    "    \n",
    "    return results.summary()"
   ]
  },
  {
   "cell_type": "markdown",
   "metadata": {},
   "source": [
    "### MMSI\n",
    "\n",
    "The EU stated that every barge needs to have an MMSI transponder installed on their barges for navigational safety. The MMSI shares important information about a.o. barge position, course and speed. This is valuable information for barge routes and and positions.\n",
    "\n"
   ]
  },
  {
   "cell_type": "code",
   "execution_count": 8,
   "metadata": {},
   "outputs": [
    {
     "name": "stdout",
     "output_type": "stream",
     "text": [
      "The amount of non-values of MMSI:35\n",
      "The percentage of non-values of MMSI:0.06\n"
     ]
    },
    {
     "data": {
      "text/plain": [
       "(None, None)"
      ]
     },
     "execution_count": 8,
     "metadata": {},
     "output_type": "execute_result"
    }
   ],
   "source": [
    "# let's check NaN values\n",
    "percentage_empty('MMSI')"
   ]
  },
  {
   "cell_type": "markdown",
   "metadata": {},
   "source": [
    "35 barges don't have MMSI, which is only ~6% of the total. The strategy to drop these is optional, but there is a possibilty to find this data online."
   ]
  },
  {
   "cell_type": "code",
   "execution_count": 9,
   "metadata": {},
   "outputs": [
    {
     "name": "stdout",
     "output_type": "stream",
     "text": [
      "Barges with an incorrect MMSI format; \n",
      "don't equal eleven characters:\n",
      "\n",
      "index: 152\n",
      "number: 4804530.0\n",
      "\n",
      "\n",
      "index: 571\n",
      "number: 22991925.0\n",
      "\n",
      "\n",
      "index: 583\n",
      "number: 12345912.0\n",
      "\n",
      "\n"
     ]
    }
   ],
   "source": [
    "print('Barges with an incorrect MMSI format; \\ndon\\'t equal eleven characters:\\n')\n",
    "\n",
    "for label, row in df[df['MMSI'].notna()].iterrows():\n",
    "    if len(str(row['MMSI'])) != 11:\n",
    "        print(\"index: {}\".format(label))\n",
    "        print(\"number: {}\".format(row['MMSI']))\n",
    "        print(\"\\n\")\n",
    "            "
   ]
  },
  {
   "cell_type": "markdown",
   "metadata": {},
   "source": [
    "Two barges don't have a correct MMSI. We can drop these, or try to find the information online."
   ]
  },
  {
   "cell_type": "markdown",
   "metadata": {},
   "source": [
    "## Barge capacity\n",
    "The barge has a loading capacity. Because this data set is focussed on barge carrying liquid bulk both tonnage as m3 are measured."
   ]
  },
  {
   "cell_type": "code",
   "execution_count": 10,
   "metadata": {
    "scrolled": false
   },
   "outputs": [
    {
     "name": "stdout",
     "output_type": "stream",
     "text": [
      "<class 'pandas.core.frame.DataFrame'>\n",
      "RangeIndex: 595 entries, 0 to 594\n",
      "Data columns (total 2 columns):\n",
      " #   Column       Non-Null Count  Dtype  \n",
      "---  ------       --------------  -----  \n",
      " 0   capacityTon  370 non-null    float64\n",
      " 1   capacityM3   359 non-null    float64\n",
      "dtypes: float64(2)\n",
      "memory usage: 9.4 KB\n"
     ]
    }
   ],
   "source": [
    "df[['capacityTon','capacityM3']].info()"
   ]
  },
  {
   "cell_type": "code",
   "execution_count": 11,
   "metadata": {},
   "outputs": [
    {
     "name": "stdout",
     "output_type": "stream",
     "text": [
      "capacityTon\n",
      "The amount of non-values of capacityTon:225\n",
      "The percentage of non-values of capacityTon:0.38\n",
      "\n",
      "capacityM3\n",
      "The amount of non-values of capacityM3:236\n",
      "The percentage of non-values of capacityM3:0.4\n"
     ]
    },
    {
     "data": {
      "text/plain": [
       "(None, None)"
      ]
     },
     "execution_count": 11,
     "metadata": {},
     "output_type": "execute_result"
    }
   ],
   "source": [
    "print('capacityTon')\n",
    "percentage_empty('capacityTon')\n",
    "print('\\ncapacityM3')\n",
    "percentage_empty('capacityM3')"
   ]
  },
  {
   "cell_type": "markdown",
   "metadata": {},
   "source": [
    "More than a third of the datafields are missing for the barge capacity information. This a significant number, dropping +30% of the data. Still, if we can't fill in the other information with online data or calculations this will be the only answer."
   ]
  },
  {
   "cell_type": "code",
   "execution_count": 12,
   "metadata": {
    "scrolled": true
   },
   "outputs": [
    {
     "data": {
      "text/html": [
       "<div>\n",
       "<style scoped>\n",
       "    .dataframe tbody tr th:only-of-type {\n",
       "        vertical-align: middle;\n",
       "    }\n",
       "\n",
       "    .dataframe tbody tr th {\n",
       "        vertical-align: top;\n",
       "    }\n",
       "\n",
       "    .dataframe thead th {\n",
       "        text-align: right;\n",
       "    }\n",
       "</style>\n",
       "<table border=\"1\" class=\"dataframe\">\n",
       "  <thead>\n",
       "    <tr style=\"text-align: right;\">\n",
       "      <th></th>\n",
       "      <th>capacityTon</th>\n",
       "      <th>capacityM3</th>\n",
       "    </tr>\n",
       "  </thead>\n",
       "  <tbody>\n",
       "    <tr>\n",
       "      <th>count</th>\n",
       "      <td>370.000000</td>\n",
       "      <td>359.000000</td>\n",
       "    </tr>\n",
       "    <tr>\n",
       "      <th>mean</th>\n",
       "      <td>3028.194595</td>\n",
       "      <td>3502.955432</td>\n",
       "    </tr>\n",
       "    <tr>\n",
       "      <th>std</th>\n",
       "      <td>1628.937965</td>\n",
       "      <td>1716.044234</td>\n",
       "    </tr>\n",
       "    <tr>\n",
       "      <th>min</th>\n",
       "      <td>48.000000</td>\n",
       "      <td>643.000000</td>\n",
       "    </tr>\n",
       "    <tr>\n",
       "      <th>25%</th>\n",
       "      <td>1748.250000</td>\n",
       "      <td>1985.000000</td>\n",
       "    </tr>\n",
       "    <tr>\n",
       "      <th>50%</th>\n",
       "      <td>2813.000000</td>\n",
       "      <td>3352.000000</td>\n",
       "    </tr>\n",
       "    <tr>\n",
       "      <th>75%</th>\n",
       "      <td>3457.500000</td>\n",
       "      <td>4135.000000</td>\n",
       "    </tr>\n",
       "    <tr>\n",
       "      <th>max</th>\n",
       "      <td>9950.000000</td>\n",
       "      <td>10220.000000</td>\n",
       "    </tr>\n",
       "  </tbody>\n",
       "</table>\n",
       "</div>"
      ],
      "text/plain": [
       "       capacityTon    capacityM3\n",
       "count   370.000000    359.000000\n",
       "mean   3028.194595   3502.955432\n",
       "std    1628.937965   1716.044234\n",
       "min      48.000000    643.000000\n",
       "25%    1748.250000   1985.000000\n",
       "50%    2813.000000   3352.000000\n",
       "75%    3457.500000   4135.000000\n",
       "max    9950.000000  10220.000000"
      ]
     },
     "execution_count": 12,
     "metadata": {},
     "output_type": "execute_result"
    }
   ],
   "source": [
    "df[['capacityTon','capacityM3']].describe()"
   ]
  },
  {
   "cell_type": "markdown",
   "metadata": {},
   "source": [
    "The capacity of both entities are roughly betwee the 0 - 10 000 with an standard deviation between the 1 600 and 1 700, which can be usefull when cleaning the data."
   ]
  },
  {
   "cell_type": "code",
   "execution_count": 13,
   "metadata": {},
   "outputs": [
    {
     "data": {
      "image/png": "[encoded data removed]",
      "text/plain": [
       "<Figure size 432x288 with 1 Axes>"
      ]
     },
     "metadata": {
      "needs_background": "light"
     },
     "output_type": "display_data"
    }
   ],
   "source": [
    "correlation_visualization('capacityTon','capacityM3');"
   ]
  },
  {
   "cell_type": "markdown",
   "metadata": {},
   "source": [
    "As aspected, the correlation between capacityTon and capacityM3 is very high."
   ]
  },
  {
   "cell_type": "markdown",
   "metadata": {},
   "source": [
    "# Barge measurements\n",
    "A barge have a measure, which could have an influence on the capacities. barges are between the 60 and 180 meters in length and 10 to 20 meter in width. This can be found [here](https://www.bureauvoorlichtingbinnenvaart.nl/wp-content/uploads/2021/04/Scheepstypes_BVB_nieuw1.pdf)"
   ]
  },
  {
   "cell_type": "code",
   "execution_count": 14,
   "metadata": {
    "scrolled": false
   },
   "outputs": [
    {
     "name": "stdout",
     "output_type": "stream",
     "text": [
      "<class 'pandas.core.frame.DataFrame'>\n",
      "RangeIndex: 595 entries, 0 to 594\n",
      "Data columns (total 2 columns):\n",
      " #   Column    Non-Null Count  Dtype  \n",
      "---  ------    --------------  -----  \n",
      " 0   lengthCm  588 non-null    float64\n",
      " 1   widthCm   585 non-null    float64\n",
      "dtypes: float64(2)\n",
      "memory usage: 9.4 KB\n"
     ]
    }
   ],
   "source": [
    "df[['lengthCm','widthCm']].info()"
   ]
  },
  {
   "cell_type": "markdown",
   "metadata": {},
   "source": [
    "The data for length and width seems complete. "
   ]
  },
  {
   "cell_type": "code",
   "execution_count": 15,
   "metadata": {},
   "outputs": [
    {
     "data": {
      "text/html": [
       "<div>\n",
       "<style scoped>\n",
       "    .dataframe tbody tr th:only-of-type {\n",
       "        vertical-align: middle;\n",
       "    }\n",
       "\n",
       "    .dataframe tbody tr th {\n",
       "        vertical-align: top;\n",
       "    }\n",
       "\n",
       "    .dataframe thead th {\n",
       "        text-align: right;\n",
       "    }\n",
       "</style>\n",
       "<table border=\"1\" class=\"dataframe\">\n",
       "  <thead>\n",
       "    <tr style=\"text-align: right;\">\n",
       "      <th></th>\n",
       "      <th>lengthCm</th>\n",
       "      <th>widthCm</th>\n",
       "    </tr>\n",
       "  </thead>\n",
       "  <tbody>\n",
       "    <tr>\n",
       "      <th>count</th>\n",
       "      <td>588.000000</td>\n",
       "      <td>585.000000</td>\n",
       "    </tr>\n",
       "    <tr>\n",
       "      <th>mean</th>\n",
       "      <td>10366.064626</td>\n",
       "      <td>1105.193162</td>\n",
       "    </tr>\n",
       "    <tr>\n",
       "      <th>std</th>\n",
       "      <td>1829.599328</td>\n",
       "      <td>180.165170</td>\n",
       "    </tr>\n",
       "    <tr>\n",
       "      <th>min</th>\n",
       "      <td>1996.000000</td>\n",
       "      <td>660.000000</td>\n",
       "    </tr>\n",
       "    <tr>\n",
       "      <th>25%</th>\n",
       "      <td>8589.250000</td>\n",
       "      <td>960.000000</td>\n",
       "    </tr>\n",
       "    <tr>\n",
       "      <th>50%</th>\n",
       "      <td>10990.000000</td>\n",
       "      <td>1140.000000</td>\n",
       "    </tr>\n",
       "    <tr>\n",
       "      <th>75%</th>\n",
       "      <td>11000.000000</td>\n",
       "      <td>1145.000000</td>\n",
       "    </tr>\n",
       "    <tr>\n",
       "      <th>max</th>\n",
       "      <td>18000.000000</td>\n",
       "      <td>1760.000000</td>\n",
       "    </tr>\n",
       "  </tbody>\n",
       "</table>\n",
       "</div>"
      ],
      "text/plain": [
       "           lengthCm      widthCm\n",
       "count    588.000000   585.000000\n",
       "mean   10366.064626  1105.193162\n",
       "std     1829.599328   180.165170\n",
       "min     1996.000000   660.000000\n",
       "25%     8589.250000   960.000000\n",
       "50%    10990.000000  1140.000000\n",
       "75%    11000.000000  1145.000000\n",
       "max    18000.000000  1760.000000"
      ]
     },
     "execution_count": 15,
     "metadata": {},
     "output_type": "execute_result"
    }
   ],
   "source": [
    "df[['lengthCm','widthCm']].describe()"
   ]
  },
  {
   "cell_type": "markdown",
   "metadata": {},
   "source": [
    "Overall the lengths seems to be okay, a length of 20 - 40 seems exceptional, we should check that data."
   ]
  },
  {
   "cell_type": "code",
   "execution_count": 16,
   "metadata": {
    "scrolled": true
   },
   "outputs": [
    {
     "data": {
      "image/png": "[encoded data removed]",
      "text/plain": [
       "<Figure size 432x288 with 1 Axes>"
      ]
     },
     "metadata": {
      "needs_background": "light"
     },
     "output_type": "display_data"
    }
   ],
   "source": [
    "plt.boxplot(df['lengthCm'])\n",
    "plt.title('Boxplot of barge lengths');"
   ]
  },
  {
   "cell_type": "code",
   "execution_count": 17,
   "metadata": {
    "scrolled": false
   },
   "outputs": [
    {
     "data": {
      "text/html": [
       "<div>\n",
       "<style scoped>\n",
       "    .dataframe tbody tr th:only-of-type {\n",
       "        vertical-align: middle;\n",
       "    }\n",
       "\n",
       "    .dataframe tbody tr th {\n",
       "        vertical-align: top;\n",
       "    }\n",
       "\n",
       "    .dataframe thead th {\n",
       "        text-align: right;\n",
       "    }\n",
       "</style>\n",
       "<table border=\"1\" class=\"dataframe\">\n",
       "  <thead>\n",
       "    <tr style=\"text-align: right;\">\n",
       "      <th></th>\n",
       "      <th>Id</th>\n",
       "      <th>externalId</th>\n",
       "      <th>abbreviation</th>\n",
       "      <th>Name</th>\n",
       "      <th>costCenterId</th>\n",
       "      <th>ENI</th>\n",
       "      <th>MMSI</th>\n",
       "      <th>TypeId</th>\n",
       "      <th>LanguageId</th>\n",
       "      <th>classification</th>\n",
       "      <th>...</th>\n",
       "      <th>mmsiUpdated</th>\n",
       "      <th>retrieveActuals</th>\n",
       "      <th>imo</th>\n",
       "      <th>tracking</th>\n",
       "      <th>orangeStartAt</th>\n",
       "      <th>redStartAt</th>\n",
       "      <th>nextCall_id</th>\n",
       "      <th>maxTonBallast</th>\n",
       "      <th>airDraft</th>\n",
       "      <th>corridor</th>\n",
       "    </tr>\n",
       "  </thead>\n",
       "  <tbody>\n",
       "    <tr>\n",
       "      <th>415</th>\n",
       "      <td>416</td>\n",
       "      <td>NaN</td>\n",
       "      <td>NaN</td>\n",
       "      <td>Hermanna</td>\n",
       "      <td>NaN</td>\n",
       "      <td>2317242</td>\n",
       "      <td>NaN</td>\n",
       "      <td>NaN</td>\n",
       "      <td>1.0</td>\n",
       "      <td>NaN</td>\n",
       "      <td>...</td>\n",
       "      <td>NaN</td>\n",
       "      <td>False</td>\n",
       "      <td>NaN</td>\n",
       "      <td>False</td>\n",
       "      <td>NaN</td>\n",
       "      <td>NaN</td>\n",
       "      <td>NaN</td>\n",
       "      <td>NaN</td>\n",
       "      <td>NaN</td>\n",
       "      <td>NaN</td>\n",
       "    </tr>\n",
       "    <tr>\n",
       "      <th>549</th>\n",
       "      <td>550</td>\n",
       "      <td>NaN</td>\n",
       "      <td>NaN</td>\n",
       "      <td>Till</td>\n",
       "      <td>NaN</td>\n",
       "      <td>2335407</td>\n",
       "      <td>211598420.0</td>\n",
       "      <td>NaN</td>\n",
       "      <td>1.0</td>\n",
       "      <td>NaN</td>\n",
       "      <td>...</td>\n",
       "      <td>2019-08-13T09:22:34Z</td>\n",
       "      <td>False</td>\n",
       "      <td>NaN</td>\n",
       "      <td>False</td>\n",
       "      <td>NaN</td>\n",
       "      <td>NaN</td>\n",
       "      <td>NaN</td>\n",
       "      <td>NaN</td>\n",
       "      <td>NaN</td>\n",
       "      <td>NaN</td>\n",
       "    </tr>\n",
       "  </tbody>\n",
       "</table>\n",
       "<p>2 rows × 91 columns</p>\n",
       "</div>"
      ],
      "text/plain": [
       "      Id  externalId abbreviation      Name  costCenterId      ENI  \\\n",
       "415  416         NaN          NaN  Hermanna           NaN  2317242   \n",
       "549  550         NaN          NaN      Till           NaN  2335407   \n",
       "\n",
       "            MMSI  TypeId  LanguageId  classification  ...  \\\n",
       "415          NaN     NaN         1.0             NaN  ...   \n",
       "549  211598420.0     NaN         1.0             NaN  ...   \n",
       "\n",
       "              mmsiUpdated  retrieveActuals  imo  tracking  orangeStartAt  \\\n",
       "415                   NaN            False  NaN     False            NaN   \n",
       "549  2019-08-13T09:22:34Z            False  NaN     False            NaN   \n",
       "\n",
       "     redStartAt  nextCall_id  maxTonBallast  airDraft  corridor  \n",
       "415         NaN          NaN            NaN       NaN       NaN  \n",
       "549         NaN          NaN            NaN       NaN       NaN  \n",
       "\n",
       "[2 rows x 91 columns]"
      ]
     },
     "execution_count": 17,
     "metadata": {},
     "output_type": "execute_result"
    }
   ],
   "source": [
    "df[df['lengthCm'] < 6000]"
   ]
  },
  {
   "cell_type": "markdown",
   "metadata": {},
   "source": [
    "This information is unclear. A quick google [search](https://www.google.com/search?q=Hermanna+binnenvaartschip&source=lmns&bih=997&biw=832&rlz=1C1CHBF_nlNL879NL879&hl=nl&sa=X&ved=2ahUKEwiKsre2gIPxAhX0JMUKHSw7AY4Q_AUoAHoECAEQAA) shows that the Hermanna is a push barge. This data should be adjusted as such.\n",
    "\n",
    "The till barge seems incorrect. Should adjust."
   ]
  },
  {
   "cell_type": "code",
   "execution_count": 18,
   "metadata": {
    "scrolled": true
   },
   "outputs": [
    {
     "data": {
      "image/png": "[encoded data removed]",
      "text/plain": [
       "<Figure size 432x288 with 1 Axes>"
      ]
     },
     "metadata": {
      "needs_background": "light"
     },
     "output_type": "display_data"
    }
   ],
   "source": [
    "correlation_visualization('lengthCm','widthCm');"
   ]
  },
  {
   "cell_type": "markdown",
   "metadata": {},
   "source": [
    "As could be expected the length and width of a barge has a strong relationship."
   ]
  },
  {
   "cell_type": "markdown",
   "metadata": {},
   "source": [
    "## Draught\n",
    "The draught of the barge is the room there is between the bottom of the barge and the ground. There's a max and a min. Max meaning when a barg is empty and min when a barge is full."
   ]
  },
  {
   "cell_type": "code",
   "execution_count": 19,
   "metadata": {
    "scrolled": true
   },
   "outputs": [
    {
     "name": "stdout",
     "output_type": "stream",
     "text": [
      "<class 'pandas.core.frame.DataFrame'>\n",
      "RangeIndex: 595 entries, 0 to 594\n",
      "Data columns (total 2 columns):\n",
      " #   Column        Non-Null Count  Dtype  \n",
      "---  ------        --------------  -----  \n",
      " 0   maxDraughtCm  360 non-null    float64\n",
      " 1   minDraughtCm  360 non-null    float64\n",
      "dtypes: float64(2)\n",
      "memory usage: 9.4 KB\n"
     ]
    }
   ],
   "source": [
    "df[['maxDraughtCm','minDraughtCm']].info()"
   ]
  },
  {
   "cell_type": "code",
   "execution_count": 20,
   "metadata": {
    "scrolled": false
   },
   "outputs": [
    {
     "data": {
      "text/html": [
       "<div>\n",
       "<style scoped>\n",
       "    .dataframe tbody tr th:only-of-type {\n",
       "        vertical-align: middle;\n",
       "    }\n",
       "\n",
       "    .dataframe tbody tr th {\n",
       "        vertical-align: top;\n",
       "    }\n",
       "\n",
       "    .dataframe thead th {\n",
       "        text-align: right;\n",
       "    }\n",
       "</style>\n",
       "<table border=\"1\" class=\"dataframe\">\n",
       "  <thead>\n",
       "    <tr style=\"text-align: right;\">\n",
       "      <th></th>\n",
       "      <th>maxDraughtCm</th>\n",
       "      <th>minDraughtCm</th>\n",
       "    </tr>\n",
       "  </thead>\n",
       "  <tbody>\n",
       "    <tr>\n",
       "      <th>count</th>\n",
       "      <td>360.000000</td>\n",
       "      <td>360.000000</td>\n",
       "    </tr>\n",
       "    <tr>\n",
       "      <th>mean</th>\n",
       "      <td>435.536111</td>\n",
       "      <td>134.977778</td>\n",
       "    </tr>\n",
       "    <tr>\n",
       "      <th>std</th>\n",
       "      <td>1579.491410</td>\n",
       "      <td>60.811133</td>\n",
       "    </tr>\n",
       "    <tr>\n",
       "      <th>min</th>\n",
       "      <td>185.000000</td>\n",
       "      <td>64.000000</td>\n",
       "    </tr>\n",
       "    <tr>\n",
       "      <th>25%</th>\n",
       "      <td>315.000000</td>\n",
       "      <td>100.000000</td>\n",
       "    </tr>\n",
       "    <tr>\n",
       "      <th>50%</th>\n",
       "      <td>349.000000</td>\n",
       "      <td>130.000000</td>\n",
       "    </tr>\n",
       "    <tr>\n",
       "      <th>75%</th>\n",
       "      <td>382.000000</td>\n",
       "      <td>155.000000</td>\n",
       "    </tr>\n",
       "    <tr>\n",
       "      <th>max</th>\n",
       "      <td>30300.000000</td>\n",
       "      <td>622.000000</td>\n",
       "    </tr>\n",
       "  </tbody>\n",
       "</table>\n",
       "</div>"
      ],
      "text/plain": [
       "       maxDraughtCm  minDraughtCm\n",
       "count    360.000000    360.000000\n",
       "mean     435.536111    134.977778\n",
       "std     1579.491410     60.811133\n",
       "min      185.000000     64.000000\n",
       "25%      315.000000    100.000000\n",
       "50%      349.000000    130.000000\n",
       "75%      382.000000    155.000000\n",
       "max    30300.000000    622.000000"
      ]
     },
     "execution_count": 20,
     "metadata": {},
     "output_type": "execute_result"
    }
   ],
   "source": [
    "df[['maxDraughtCm','minDraughtCm']].describe()"
   ]
  },
  {
   "cell_type": "markdown",
   "metadata": {},
   "source": [
    "Seems like the max draught has a data entry problem with a max value that is out of proportion. "
   ]
  },
  {
   "cell_type": "code",
   "execution_count": 21,
   "metadata": {
    "scrolled": true
   },
   "outputs": [
    {
     "name": "stdout",
     "output_type": "stream",
     "text": [
      "maxDraughtCm\n",
      "The amount of non-values of maxDraughtCm:235\n",
      "The percentage of non-values of maxDraughtCm:0.39\n",
      "\n",
      "minDraughtCm\n",
      "The amount of non-values of minDraughtCm:235\n",
      "The percentage of non-values of minDraughtCm:0.39\n"
     ]
    },
    {
     "data": {
      "text/plain": [
       "(None, None)"
      ]
     },
     "execution_count": 21,
     "metadata": {},
     "output_type": "execute_result"
    }
   ],
   "source": [
    "print('maxDraughtCm')\n",
    "percentage_empty('maxDraughtCm')\n",
    "print('\\nminDraughtCm')\n",
    "percentage_empty('minDraughtCm')"
   ]
  },
  {
   "cell_type": "markdown",
   "metadata": {},
   "source": [
    "With a third of the data missing, the draught data could be missing with to much."
   ]
  },
  {
   "cell_type": "markdown",
   "metadata": {},
   "source": [
    "## Conclusion\n",
    "\n",
    "- Some barges is missing MMSI data or have not the correct data. Should drop or add data.\n",
    "- A third of the barges is missing capacity data, which is a lot. Capacity is important to decide if cargo can be transported\n",
    "- The measurements are complete. There're two barges with not a lot of info.\n",
    "- A third of the barges is missing draught data and the maxDraught is a outlier.  "
   ]
  },
  {
   "cell_type": "markdown",
   "metadata": {},
   "source": [
    "# Cleaning"
   ]
  },
  {
   "cell_type": "markdown",
   "metadata": {},
   "source": [
    "## MMSI"
   ]
  },
  {
   "cell_type": "code",
   "execution_count": 22,
   "metadata": {},
   "outputs": [],
   "source": [
    "# Drop barges with empty values\n",
    "df = df[df['MMSI'].notna()]"
   ]
  },
  {
   "cell_type": "code",
   "execution_count": 23,
   "metadata": {},
   "outputs": [],
   "source": [
    "# Drop barges with values that are incorrect\n",
    "df = df.drop(index = [152,571,583])"
   ]
  },
  {
   "cell_type": "markdown",
   "metadata": {},
   "source": [
    "## Measurement\n",
    "- Drop barge without width\n",
    "- Drop barge with strange lengths (id 415, 549)"
   ]
  },
  {
   "cell_type": "code",
   "execution_count": 24,
   "metadata": {},
   "outputs": [],
   "source": [
    "# Drop barges with empty values\n",
    "df = df.dropna(subset = [\"widthCm\"])"
   ]
  },
  {
   "cell_type": "code",
   "execution_count": 25,
   "metadata": {},
   "outputs": [],
   "source": [
    "# Drop barges with strange lengths\n",
    "df = df.drop(index = [415,549], errors = 'ignore')"
   ]
  },
  {
   "cell_type": "markdown",
   "metadata": {},
   "source": [
    "## Capacity\n",
    "check if capacity can be filled with measurements"
   ]
  },
  {
   "cell_type": "code",
   "execution_count": 26,
   "metadata": {},
   "outputs": [],
   "source": [
    "# Get square meters of barges\n",
    "df['barge_M2'] = df['lengthCm'] * df['widthCm'] "
   ]
  },
  {
   "cell_type": "code",
   "execution_count": 27,
   "metadata": {},
   "outputs": [],
   "source": [
    "# Bin and catagorize capacity data\n",
    "\n",
    "def categorize_capacity(variable,df):\n",
    "    '''\n",
    "    Catagorizing capacity for barges\n",
    "    \n",
    "    Input\n",
    "    Variable that needs to be catagorized\n",
    "    df for the work\n",
    "    Output\n",
    "    Catagorized column\n",
    "    '''\n",
    "    cat_list = []\n",
    "    \n",
    "    for i in df[variable]:\n",
    "        if i < 500:\n",
    "            cat_list.append(500)\n",
    "        elif i < 1000:\n",
    "            cat_list.append(1000)\n",
    "        elif i < 1500:\n",
    "            cat_list.append(1500)\n",
    "        elif i < 2000:\n",
    "            cat_list.append(2000)\n",
    "        elif i < 2500:\n",
    "            cat_list.append(2500)\n",
    "        elif i < 3000:\n",
    "            cat_list.append(3000)\n",
    "        elif i < 3500:\n",
    "            cat_list.append(3500)\n",
    "        elif i < 4000:\n",
    "            cat_list.append(4000)\n",
    "        elif i < 4500:\n",
    "            cat_list.append(4500)\n",
    "        elif i < 5000:\n",
    "            cat_list.append(5000)\n",
    "        elif i < 5500:\n",
    "            cat_list.append(5500)\n",
    "        elif i < 6000:\n",
    "            cat_list.append(6000)\n",
    "        elif i < 6500:\n",
    "            cat_list.append(6500)\n",
    "        elif i < 7000:\n",
    "            cat_list.append(7000)\n",
    "        elif i < 7500:\n",
    "            cat_list.append(7500)\n",
    "        elif i < 8000:\n",
    "            cat_list.append(8000)\n",
    "        elif i < 8500:\n",
    "            cat_list.append(8500)\n",
    "        elif i < 9000:\n",
    "            cat_list.append(9000)\n",
    "        elif i < 9500:\n",
    "            cat_list.append(9500)\n",
    "        elif i < 10000:\n",
    "            cat_list.append(10000)\n",
    "        elif np.isnan(i):\n",
    "            cat_list.append(np.nan)\n",
    "        else:\n",
    "            cat_list.append(10500)\n",
    "            \n",
    "    return cat_list"
   ]
  },
  {
   "cell_type": "code",
   "execution_count": 28,
   "metadata": {},
   "outputs": [],
   "source": [
    "df['categoryTon'] = categorize_capacity('capacityTon',df)\n",
    "df['categoryM3'] = categorize_capacity('capacityM3',df)"
   ]
  },
  {
   "cell_type": "code",
   "execution_count": 29,
   "metadata": {
    "scrolled": false
   },
   "outputs": [
    {
     "name": "stdout",
     "output_type": "stream",
     "text": [
      "<class 'pandas.core.frame.DataFrame'>\n",
      "Int64Index: 547 entries, 0 to 594\n",
      "Data columns (total 3 columns):\n",
      " #   Column       Non-Null Count  Dtype  \n",
      "---  ------       --------------  -----  \n",
      " 0   categoryTon  333 non-null    float64\n",
      " 1   categoryM3   323 non-null    float64\n",
      " 2   barge_M2     547 non-null    float64\n",
      "dtypes: float64(3)\n",
      "memory usage: 17.1 KB\n"
     ]
    }
   ],
   "source": [
    "df[['categoryTon','categoryM3','barge_M2']].info()"
   ]
  },
  {
   "cell_type": "code",
   "execution_count": 30,
   "metadata": {},
   "outputs": [
    {
     "data": {
      "image/png": "[encoded data removed]",
      "text/plain": [
       "<Figure size 1080x576 with 1 Axes>"
      ]
     },
     "metadata": {
      "needs_background": "light"
     },
     "output_type": "display_data"
    }
   ],
   "source": [
    "plt.figure(figsize=(15,8))\n",
    "ax = sns.histplot(df[\"categoryTon\"])\n",
    "sns.histplot(df[\"categoryM3\"], color = 'orange')\n",
    "plt.legend(['categoryTon', 'categoryM3'])\n",
    "plt.title('Distribution of capacities for categoryTon and categoryM3')\n",
    "ax.set(xlabel='capacity_amount')\n",
    "\n",
    "plt.show()"
   ]
  },
  {
   "cell_type": "code",
   "execution_count": 31,
   "metadata": {
    "scrolled": true
   },
   "outputs": [
    {
     "data": {
      "text/plain": [
       "<AxesSubplot:>"
      ]
     },
     "execution_count": 31,
     "metadata": {},
     "output_type": "execute_result"
    },
    {
     "data": {
      "image/png": "[encoded data removed]",
      "text/plain": [
       "<Figure size 432x288 with 2 Axes>"
      ]
     },
     "metadata": {
      "needs_background": "light"
     },
     "output_type": "display_data"
    }
   ],
   "source": [
    "# Create heatmap with correlations to signal possible indicators\n",
    "sns.heatmap(df[['barge_M2','categoryTon','categoryM3','lengthCm','widthCm','minDraughtCm']].corr())"
   ]
  },
  {
   "cell_type": "code",
   "execution_count": 32,
   "metadata": {},
   "outputs": [
    {
     "data": {
      "text/plain": [
       "Text(0.5, 1.0, 'Relation between barge_M2 and categoryTon')"
      ]
     },
     "execution_count": 32,
     "metadata": {},
     "output_type": "execute_result"
    },
    {
     "data": {
      "image/png": "[encoded data removed]",
      "text/plain": [
       "<Figure size 432x288 with 1 Axes>"
      ]
     },
     "metadata": {
      "needs_background": "light"
     },
     "output_type": "display_data"
    }
   ],
   "source": [
    "correlation_visualization('barge_M2','categoryTon')"
   ]
  },
  {
   "cell_type": "code",
   "execution_count": 33,
   "metadata": {},
   "outputs": [
    {
     "data": {
      "text/plain": [
       "Text(0.5, 1.0, 'Relation between barge_M2 and categoryM3')"
      ]
     },
     "execution_count": 33,
     "metadata": {},
     "output_type": "execute_result"
    },
    {
     "data": {
      "image/png": "[encoded data removed]",
      "text/plain": [
       "<Figure size 432x288 with 1 Axes>"
      ]
     },
     "metadata": {
      "needs_background": "light"
     },
     "output_type": "display_data"
    }
   ],
   "source": [
    "correlation_visualization('barge_M2','categoryM3')"
   ]
  },
  {
   "cell_type": "code",
   "execution_count": 34,
   "metadata": {
    "scrolled": true
   },
   "outputs": [
    {
     "data": {
      "text/html": [
       "<table class=\"simpletable\">\n",
       "<caption>OLS Regression Results</caption>\n",
       "<tr>\n",
       "  <th>Dep. Variable:</th>       <td>categoryM3</td>    <th>  R-squared:         </th> <td>   0.958</td> \n",
       "</tr>\n",
       "<tr>\n",
       "  <th>Model:</th>                   <td>OLS</td>       <th>  Adj. R-squared:    </th> <td>   0.957</td> \n",
       "</tr>\n",
       "<tr>\n",
       "  <th>Method:</th>             <td>Least Squares</td>  <th>  F-statistic:       </th> <td>   3613.</td> \n",
       "</tr>\n",
       "<tr>\n",
       "  <th>Date:</th>             <td>Tue, 08 Jun 2021</td> <th>  Prob (F-statistic):</th> <td>2.41e-220</td>\n",
       "</tr>\n",
       "<tr>\n",
       "  <th>Time:</th>                 <td>19:19:22</td>     <th>  Log-Likelihood:    </th> <td> -2358.1</td> \n",
       "</tr>\n",
       "<tr>\n",
       "  <th>No. Observations:</th>      <td>   323</td>      <th>  AIC:               </th> <td>   4722.</td> \n",
       "</tr>\n",
       "<tr>\n",
       "  <th>Df Residuals:</th>          <td>   320</td>      <th>  BIC:               </th> <td>   4733.</td> \n",
       "</tr>\n",
       "<tr>\n",
       "  <th>Df Model:</th>              <td>     2</td>      <th>                     </th>     <td> </td>    \n",
       "</tr>\n",
       "<tr>\n",
       "  <th>Covariance Type:</th>      <td>nonrobust</td>    <th>                     </th>     <td> </td>    \n",
       "</tr>\n",
       "</table>\n",
       "<table class=\"simpletable\">\n",
       "<tr>\n",
       "       <td></td>          <th>coef</th>     <th>std err</th>      <th>t</th>      <th>P>|t|</th>  <th>[0.025</th>    <th>0.975]</th>  \n",
       "</tr>\n",
       "<tr>\n",
       "  <th>intercept</th>   <td>-1241.6214</td> <td>   80.207</td> <td>  -15.480</td> <td> 0.000</td> <td>-1399.421</td> <td>-1083.821</td>\n",
       "</tr>\n",
       "<tr>\n",
       "  <th>categoryTon</th> <td>    0.2363</td> <td>    0.030</td> <td>    7.858</td> <td> 0.000</td> <td>    0.177</td> <td>    0.295</td>\n",
       "</tr>\n",
       "<tr>\n",
       "  <th>barge_M2</th>    <td>    0.0003</td> <td> 1.28e-05</td> <td>   26.938</td> <td> 0.000</td> <td>    0.000</td> <td>    0.000</td>\n",
       "</tr>\n",
       "</table>\n",
       "<table class=\"simpletable\">\n",
       "<tr>\n",
       "  <th>Omnibus:</th>       <td>58.712</td> <th>  Durbin-Watson:     </th> <td>   1.875</td> \n",
       "</tr>\n",
       "<tr>\n",
       "  <th>Prob(Omnibus):</th> <td> 0.000</td> <th>  Jarque-Bera (JB):  </th> <td> 782.500</td> \n",
       "</tr>\n",
       "<tr>\n",
       "  <th>Skew:</th>          <td> 0.079</td> <th>  Prob(JB):          </th> <td>1.21e-170</td>\n",
       "</tr>\n",
       "<tr>\n",
       "  <th>Kurtosis:</th>      <td>10.623</td> <th>  Cond. No.          </th> <td>5.23e+07</td> \n",
       "</tr>\n",
       "</table><br/><br/>Notes:<br/>[1] Standard Errors assume that the covariance matrix of the errors is correctly specified.<br/>[2] The condition number is large, 5.23e+07. This might indicate that there are<br/>strong multicollinearity or other numerical problems."
      ],
      "text/plain": [
       "<class 'statsmodels.iolib.summary.Summary'>\n",
       "\"\"\"\n",
       "                            OLS Regression Results                            \n",
       "==============================================================================\n",
       "Dep. Variable:             categoryM3   R-squared:                       0.958\n",
       "Model:                            OLS   Adj. R-squared:                  0.957\n",
       "Method:                 Least Squares   F-statistic:                     3613.\n",
       "Date:                Tue, 08 Jun 2021   Prob (F-statistic):          2.41e-220\n",
       "Time:                        19:19:22   Log-Likelihood:                -2358.1\n",
       "No. Observations:                 323   AIC:                             4722.\n",
       "Df Residuals:                     320   BIC:                             4733.\n",
       "Df Model:                           2                                         \n",
       "Covariance Type:            nonrobust                                         \n",
       "===============================================================================\n",
       "                  coef    std err          t      P>|t|      [0.025      0.975]\n",
       "-------------------------------------------------------------------------------\n",
       "intercept   -1241.6214     80.207    -15.480      0.000   -1399.421   -1083.821\n",
       "categoryTon     0.2363      0.030      7.858      0.000       0.177       0.295\n",
       "barge_M2        0.0003   1.28e-05     26.938      0.000       0.000       0.000\n",
       "==============================================================================\n",
       "Omnibus:                       58.712   Durbin-Watson:                   1.875\n",
       "Prob(Omnibus):                  0.000   Jarque-Bera (JB):              782.500\n",
       "Skew:                           0.079   Prob(JB):                    1.21e-170\n",
       "Kurtosis:                      10.623   Cond. No.                     5.23e+07\n",
       "==============================================================================\n",
       "\n",
       "Notes:\n",
       "[1] Standard Errors assume that the covariance matrix of the errors is correctly specified.\n",
       "[2] The condition number is large, 5.23e+07. This might indicate that there are\n",
       "strong multicollinearity or other numerical problems.\n",
       "\"\"\""
      ]
     },
     "execution_count": 34,
     "metadata": {},
     "output_type": "execute_result"
    }
   ],
   "source": [
    "ols_results('categoryM3','categoryTon','barge_M2', df)"
   ]
  },
  {
   "cell_type": "code",
   "execution_count": 35,
   "metadata": {},
   "outputs": [
    {
     "data": {
      "text/html": [
       "<table class=\"simpletable\">\n",
       "<caption>OLS Regression Results</caption>\n",
       "<tr>\n",
       "  <th>Dep. Variable:</th>       <td>categoryTon</td>   <th>  R-squared:         </th> <td>   0.864</td> \n",
       "</tr>\n",
       "<tr>\n",
       "  <th>Model:</th>                   <td>OLS</td>       <th>  Adj. R-squared:    </th> <td>   0.863</td> \n",
       "</tr>\n",
       "<tr>\n",
       "  <th>Method:</th>             <td>Least Squares</td>  <th>  F-statistic:       </th> <td>   1014.</td> \n",
       "</tr>\n",
       "<tr>\n",
       "  <th>Date:</th>             <td>Tue, 08 Jun 2021</td> <th>  Prob (F-statistic):</th> <td>3.18e-139</td>\n",
       "</tr>\n",
       "<tr>\n",
       "  <th>Time:</th>                 <td>19:19:22</td>     <th>  Log-Likelihood:    </th> <td> -2529.9</td> \n",
       "</tr>\n",
       "<tr>\n",
       "  <th>No. Observations:</th>      <td>   323</td>      <th>  AIC:               </th> <td>   5066.</td> \n",
       "</tr>\n",
       "<tr>\n",
       "  <th>Df Residuals:</th>          <td>   320</td>      <th>  BIC:               </th> <td>   5077.</td> \n",
       "</tr>\n",
       "<tr>\n",
       "  <th>Df Model:</th>              <td>     2</td>      <th>                     </th>     <td> </td>    \n",
       "</tr>\n",
       "<tr>\n",
       "  <th>Covariance Type:</th>      <td>nonrobust</td>    <th>                     </th>     <td> </td>    \n",
       "</tr>\n",
       "</table>\n",
       "<table class=\"simpletable\">\n",
       "<tr>\n",
       "       <td></td>         <th>coef</th>     <th>std err</th>      <th>t</th>      <th>P>|t|</th>  <th>[0.025</th>    <th>0.975]</th>  \n",
       "</tr>\n",
       "<tr>\n",
       "  <th>intercept</th>  <td> -361.6386</td> <td>  179.411</td> <td>   -2.016</td> <td> 0.045</td> <td> -714.613</td> <td>   -8.664</td>\n",
       "</tr>\n",
       "<tr>\n",
       "  <th>categoryM3</th> <td>    0.6845</td> <td>    0.087</td> <td>    7.858</td> <td> 0.000</td> <td>    0.513</td> <td>    0.856</td>\n",
       "</tr>\n",
       "<tr>\n",
       "  <th>barge_M2</th>   <td> 9.053e-05</td> <td> 3.91e-05</td> <td>    2.318</td> <td> 0.021</td> <td> 1.37e-05</td> <td>    0.000</td>\n",
       "</tr>\n",
       "</table>\n",
       "<table class=\"simpletable\">\n",
       "<tr>\n",
       "  <th>Omnibus:</th>       <td>582.226</td> <th>  Durbin-Watson:     </th>  <td>   1.988</td> \n",
       "</tr>\n",
       "<tr>\n",
       "  <th>Prob(Omnibus):</th> <td> 0.000</td>  <th>  Jarque-Bera (JB):  </th> <td>331158.185</td>\n",
       "</tr>\n",
       "<tr>\n",
       "  <th>Skew:</th>          <td>10.423</td>  <th>  Prob(JB):          </th>  <td>    0.00</td> \n",
       "</tr>\n",
       "<tr>\n",
       "  <th>Kurtosis:</th>      <td>158.472</td> <th>  Cond. No.          </th>  <td>6.87e+07</td> \n",
       "</tr>\n",
       "</table><br/><br/>Notes:<br/>[1] Standard Errors assume that the covariance matrix of the errors is correctly specified.<br/>[2] The condition number is large, 6.87e+07. This might indicate that there are<br/>strong multicollinearity or other numerical problems."
      ],
      "text/plain": [
       "<class 'statsmodels.iolib.summary.Summary'>\n",
       "\"\"\"\n",
       "                            OLS Regression Results                            \n",
       "==============================================================================\n",
       "Dep. Variable:            categoryTon   R-squared:                       0.864\n",
       "Model:                            OLS   Adj. R-squared:                  0.863\n",
       "Method:                 Least Squares   F-statistic:                     1014.\n",
       "Date:                Tue, 08 Jun 2021   Prob (F-statistic):          3.18e-139\n",
       "Time:                        19:19:22   Log-Likelihood:                -2529.9\n",
       "No. Observations:                 323   AIC:                             5066.\n",
       "Df Residuals:                     320   BIC:                             5077.\n",
       "Df Model:                           2                                         \n",
       "Covariance Type:            nonrobust                                         \n",
       "==============================================================================\n",
       "                 coef    std err          t      P>|t|      [0.025      0.975]\n",
       "------------------------------------------------------------------------------\n",
       "intercept   -361.6386    179.411     -2.016      0.045    -714.613      -8.664\n",
       "categoryM3     0.6845      0.087      7.858      0.000       0.513       0.856\n",
       "barge_M2    9.053e-05   3.91e-05      2.318      0.021    1.37e-05       0.000\n",
       "==============================================================================\n",
       "Omnibus:                      582.226   Durbin-Watson:                   1.988\n",
       "Prob(Omnibus):                  0.000   Jarque-Bera (JB):           331158.185\n",
       "Skew:                          10.423   Prob(JB):                         0.00\n",
       "Kurtosis:                     158.472   Cond. No.                     6.87e+07\n",
       "==============================================================================\n",
       "\n",
       "Notes:\n",
       "[1] Standard Errors assume that the covariance matrix of the errors is correctly specified.\n",
       "[2] The condition number is large, 6.87e+07. This might indicate that there are\n",
       "strong multicollinearity or other numerical problems.\n",
       "\"\"\""
      ]
     },
     "execution_count": 35,
     "metadata": {},
     "output_type": "execute_result"
    }
   ],
   "source": [
    "ols_results('categoryTon','categoryM3','barge_M2',df)"
   ]
  },
  {
   "cell_type": "markdown",
   "metadata": {},
   "source": [
    "For capacity information it seems that the barge square meter is a good indicators for the barges capacity. "
   ]
  },
  {
   "cell_type": "markdown",
   "metadata": {},
   "source": [
    "### Prediction"
   ]
  },
  {
   "cell_type": "code",
   "execution_count": 36,
   "metadata": {},
   "outputs": [],
   "source": [
    "# Because the new values will be placed based on index, the index has to be reset\n",
    "df.reset_index(drop=True, inplace=True)"
   ]
  },
  {
   "cell_type": "code",
   "execution_count": null,
   "metadata": {},
   "outputs": [],
   "source": [
    "def train_data():\n",
    "    '''\n",
    "    \n",
    "    '''\n",
    "    tdf = dataframe.copy()\n",
    "    \n",
    "    # remove null values to prevent errors\n",
    "    tdf = tdf[tdf['categoryTon'].notna()]\n",
    "    tdf = tdf[tdf['categoryM3'].notna()]\n",
    "    \n",
    "    #remove outliers from features to enhance the trainingset\n",
    "    tdf = tdf[(np.abs(stats.zscore(tdf[features])) < 3)]\n",
    "    \n",
    "    label = tdf[label]\n",
    "    features = tdf[features]\n",
    "\n",
    "\n",
    "    features_train, features_test, labels_train, labels_test = train_test_split(features, label, test_size=0.2, random_state=42)\n",
    "    \n",
    "    return features_train, features_test, labels_train, labels_test"
   ]
  },
  {
   "cell_type": "code",
   "execution_count": 37,
   "metadata": {},
   "outputs": [],
   "source": [
    "def prediction(clf,dataframe, label, features = []):\n",
    "    '''\n",
    "    \n",
    "    \n",
    "    '''\n",
    "    tdf = dataframe.copy()\n",
    "    \n",
    "    # remove null values to prevent errors\n",
    "    tdf = tdf[tdf['categoryTon'].notna()]\n",
    "    tdf = tdf[tdf['categoryM3'].notna()]\n",
    "    \n",
    "    #remove outliers from features to enhance the trainingset\n",
    "    tdf = tdf[(np.abs(stats.zscore(tdf[features])) < 3)]\n",
    "    \n",
    "    label = tdf[label]\n",
    "    features = tdf[features]\n",
    "\n",
    "\n",
    "    features_train, features_test, labels_train, labels_test = train_test_split(features, label, test_size=0.2, random_state=42)\n",
    "    \n",
    "    clf.fit(features_train, labels_train)\n",
    "    pred = clf.predict(features_test)\n",
    "    accuracy = accuracy_score(pred, labels_test)\n",
    "    \n",
    "    return clf, accuracy"
   ]
  },
  {
   "cell_type": "code",
   "execution_count": 90,
   "metadata": {},
   "outputs": [
    {
     "name": "stdout",
     "output_type": "stream",
     "text": [
      "GaussianNB()\n",
      "categoryM3\n",
      "categoryTon\n",
      "SVC()\n",
      "categoryM3\n",
      "categoryTon\n",
      "RandomForestClassifier()\n",
      "categoryM3\n",
      "categoryTon\n"
     ]
    },
    {
     "data": {
      "image/png": "[encoded data removed]",
      "text/plain": [
       "<Figure size 521.375x360 with 1 Axes>"
      ]
     },
     "metadata": {
      "needs_background": "light"
     },
     "output_type": "display_data"
    }
   ],
   "source": [
    "pred_method = [GaussianNB(),SVC(),RandomForestClassifier()]\n",
    "pred_label = ['categoryM3','categoryTon']\n",
    "cmp_method = {}\n",
    "\n",
    "#create a dictionary with results of different prediction methods\n",
    "for method in pred_method:\n",
    "    for label in pred_label:\n",
    "        if label == 'categoryTon':\n",
    "            clf, acc = prediction(method,df,label,['categoryM3','barge_M2'])\n",
    "            cmp_method_items = {'method': method, 'label': label, 'accuracy':round(acc,2)}\n",
    "        elif label == 'categoryM3':\n",
    "            clf, acc = prediction(method,df,label,['categoryTon','barge_M2'])\n",
    "            cmp_method_items = ({'method': method, 'label': label, 'accuracy':round(acc,2)})\n",
    "    \n",
    "        key = 0\n",
    "        if not cmp_method:\n",
    "            key = 0\n",
    "        else:\n",
    "            key = list(cmp_method.keys())[-1] + 1\n",
    "        cmp_method[key] = cmp_method_items\n",
    "\n",
    "# place dictionary in a dataframe an plot results        \n",
    "methd_df = pd.DataFrame.from_dict(cmp_method, orient='index').sort_values('accuracy')\n",
    "\n",
    "ax = sns.catplot(data=methd_df, x=\"label\", y=\"accuracy\", hue=\"method\", kind=\"bar\", palette=\"Blues_d\")\n",
    "plt.title('Comparison of methods prediction capacity barges');"
   ]
  },
  {
   "cell_type": "markdown",
   "metadata": {},
   "source": [
    "The plot shows that the RandomForestClassifier() is the best method of these three. We should further investigate"
   ]
  },
  {
   "cell_type": "code",
   "execution_count": 122,
   "metadata": {},
   "outputs": [],
   "source": [
    "def build_rfc_model():\n",
    "\n",
    "    \n",
    "    parameters = {'n_estimators' : [100,250,500],\n",
    "                    'max_features': ['log2','auto']\n",
    "                 }\n",
    "    ensemble = RandomForestClassifier()\n",
    "    clf = GridSearchCV(ensemble, parameters)\n",
    "\n",
    "    return clf"
   ]
  },
  {
   "cell_type": "code",
   "execution_count": 124,
   "metadata": {},
   "outputs": [],
   "source": [
    "def evaluate_rfc_model(model, X_test, Y_test, category_names):\n",
    "    '''\n",
    "      Be aware: category_names is not used. Instead I use values. Determine if and how to use category_names.\n",
    "      Problem is how to loop through them.\n",
    "      '''\n",
    "    Y_prediction = model.predict(X_test)\n",
    "\n",
    "    for index, value in enumerate(Y_test):\n",
    "        print('Report of the f1 score, precision and recall for category: {} \\n'.format(value))\n",
    "        print(classification_report(Y_test.iloc[:, index], Y_prediction[:, index]))\n",
    "        print()\n",
    "    pass\n",
    "\n",
    "\n",
    "\n",
    "\n",
    "def main(dataframe,label,features = []):\n",
    "\n",
    "    \n",
    "    \n",
    "    tdf = dataframe.copy()\n",
    "    \n",
    "    # remove null values to prevent errors\n",
    "    tdf = tdf[tdf['categoryTon'].notna()]\n",
    "    tdf = tdf[tdf['categoryM3'].notna()]\n",
    "    \n",
    "    #remove outliers from features to enhance the trainingset\n",
    "    tdf = tdf[(np.abs(stats.zscore(tdf[features])) < 3)]\n",
    "    \n",
    "    label = tdf[label]\n",
    "    features = tdf[features]\n",
    "\n",
    "    X_train, X_test, Y_train, Y_test = train_test_split(features,label, test_size=0.2)\n",
    "\n",
    "    print('Building model...')\n",
    "    model = build_rfc_model()\n",
    "\n",
    "    print('Training model...')\n",
    "    model.fit(X_train, Y_train)\n",
    "\n",
    "    print('Evaluating model...')\n",
    "    evaluate_rfc_model(model, X_test, Y_test, label)\n",
    "\n",
    "    print('Trained model saved!')"
   ]
  },
  {
   "cell_type": "code",
   "execution_count": 125,
   "metadata": {},
   "outputs": [
    {
     "name": "stdout",
     "output_type": "stream",
     "text": [
      "Building model...\n",
      "Training model...\n"
     ]
    },
    {
     "name": "stderr",
     "output_type": "stream",
     "text": [
      "C:\\Users\\Frank\\Anaconda3\\lib\\site-packages\\sklearn\\model_selection\\_split.py:668: UserWarning: The least populated class in y has only 2 members, which is less than n_splits=5.\n",
      "  % (min_groups, self.n_splits)), UserWarning)\n"
     ]
    },
    {
     "name": "stdout",
     "output_type": "stream",
     "text": [
      "Evaluating model...\n",
      "Report of the f1 score, precision and recall for category: 6500.0 \n",
      "\n"
     ]
    },
    {
     "ename": "IndexingError",
     "evalue": "Too many indexers",
     "output_type": "error",
     "traceback": [
      "\u001b[1;31m---------------------------------------------------------------------------\u001b[0m",
      "\u001b[1;31mIndexingError\u001b[0m                             Traceback (most recent call last)",
      "\u001b[1;32m<ipython-input-125-66b94bb29876>\u001b[0m in \u001b[0;36m<module>\u001b[1;34m\u001b[0m\n\u001b[0;32m      1\u001b[0m \u001b[1;32mfrom\u001b[0m \u001b[0msklearn\u001b[0m \u001b[1;32mimport\u001b[0m \u001b[0msvm\u001b[0m\u001b[1;33m,\u001b[0m \u001b[0mdatasets\u001b[0m\u001b[1;33m\u001b[0m\u001b[1;33m\u001b[0m\u001b[0m\n\u001b[1;32m----> 2\u001b[1;33m \u001b[0mmain\u001b[0m\u001b[1;33m(\u001b[0m\u001b[0mdf\u001b[0m\u001b[1;33m,\u001b[0m\u001b[1;34m'categoryTon'\u001b[0m\u001b[1;33m,\u001b[0m\u001b[0mfeatures\u001b[0m \u001b[1;33m=\u001b[0m \u001b[1;33m[\u001b[0m\u001b[1;34m'categoryM3'\u001b[0m\u001b[1;33m,\u001b[0m\u001b[1;34m'barge_M2'\u001b[0m\u001b[1;33m]\u001b[0m\u001b[1;33m)\u001b[0m\u001b[1;33m\u001b[0m\u001b[1;33m\u001b[0m\u001b[0m\n\u001b[0m",
      "\u001b[1;32m<ipython-input-124-d5e849cab8a4>\u001b[0m in \u001b[0;36mmain\u001b[1;34m(dataframe, label, features)\u001b[0m\n\u001b[0;32m     40\u001b[0m \u001b[1;33m\u001b[0m\u001b[0m\n\u001b[0;32m     41\u001b[0m     \u001b[0mprint\u001b[0m\u001b[1;33m(\u001b[0m\u001b[1;34m'Evaluating model...'\u001b[0m\u001b[1;33m)\u001b[0m\u001b[1;33m\u001b[0m\u001b[1;33m\u001b[0m\u001b[0m\n\u001b[1;32m---> 42\u001b[1;33m     \u001b[0mevaluate_rfc_model\u001b[0m\u001b[1;33m(\u001b[0m\u001b[0mmodel\u001b[0m\u001b[1;33m,\u001b[0m \u001b[0mX_test\u001b[0m\u001b[1;33m,\u001b[0m \u001b[0mY_test\u001b[0m\u001b[1;33m,\u001b[0m \u001b[0mlabel\u001b[0m\u001b[1;33m)\u001b[0m\u001b[1;33m\u001b[0m\u001b[1;33m\u001b[0m\u001b[0m\n\u001b[0m\u001b[0;32m     43\u001b[0m \u001b[1;33m\u001b[0m\u001b[0m\n\u001b[0;32m     44\u001b[0m     \u001b[0mprint\u001b[0m\u001b[1;33m(\u001b[0m\u001b[1;34m'Trained model saved!'\u001b[0m\u001b[1;33m)\u001b[0m\u001b[1;33m\u001b[0m\u001b[1;33m\u001b[0m\u001b[0m\n",
      "\u001b[1;32m<ipython-input-124-d5e849cab8a4>\u001b[0m in \u001b[0;36mevaluate_rfc_model\u001b[1;34m(model, X_test, Y_test, category_names)\u001b[0m\n\u001b[0;32m      8\u001b[0m     \u001b[1;32mfor\u001b[0m \u001b[0mindex\u001b[0m\u001b[1;33m,\u001b[0m \u001b[0mvalue\u001b[0m \u001b[1;32min\u001b[0m \u001b[0menumerate\u001b[0m\u001b[1;33m(\u001b[0m\u001b[0mY_test\u001b[0m\u001b[1;33m)\u001b[0m\u001b[1;33m:\u001b[0m\u001b[1;33m\u001b[0m\u001b[1;33m\u001b[0m\u001b[0m\n\u001b[0;32m      9\u001b[0m         \u001b[0mprint\u001b[0m\u001b[1;33m(\u001b[0m\u001b[1;34m'Report of the f1 score, precision and recall for category: {} \\n'\u001b[0m\u001b[1;33m.\u001b[0m\u001b[0mformat\u001b[0m\u001b[1;33m(\u001b[0m\u001b[0mvalue\u001b[0m\u001b[1;33m)\u001b[0m\u001b[1;33m)\u001b[0m\u001b[1;33m\u001b[0m\u001b[1;33m\u001b[0m\u001b[0m\n\u001b[1;32m---> 10\u001b[1;33m         \u001b[0mprint\u001b[0m\u001b[1;33m(\u001b[0m\u001b[0mclassification_report\u001b[0m\u001b[1;33m(\u001b[0m\u001b[0mY_test\u001b[0m\u001b[1;33m.\u001b[0m\u001b[0miloc\u001b[0m\u001b[1;33m[\u001b[0m\u001b[1;33m:\u001b[0m\u001b[1;33m,\u001b[0m \u001b[0mindex\u001b[0m\u001b[1;33m]\u001b[0m\u001b[1;33m,\u001b[0m \u001b[0mY_prediction\u001b[0m\u001b[1;33m[\u001b[0m\u001b[1;33m:\u001b[0m\u001b[1;33m,\u001b[0m \u001b[0mindex\u001b[0m\u001b[1;33m]\u001b[0m\u001b[1;33m)\u001b[0m\u001b[1;33m)\u001b[0m\u001b[1;33m\u001b[0m\u001b[1;33m\u001b[0m\u001b[0m\n\u001b[0m\u001b[0;32m     11\u001b[0m         \u001b[0mprint\u001b[0m\u001b[1;33m(\u001b[0m\u001b[1;33m)\u001b[0m\u001b[1;33m\u001b[0m\u001b[1;33m\u001b[0m\u001b[0m\n\u001b[0;32m     12\u001b[0m     \u001b[1;32mpass\u001b[0m\u001b[1;33m\u001b[0m\u001b[1;33m\u001b[0m\u001b[0m\n",
      "\u001b[1;32m~\\Anaconda3\\lib\\site-packages\\pandas\\core\\indexing.py\u001b[0m in \u001b[0;36m__getitem__\u001b[1;34m(self, key)\u001b[0m\n\u001b[0;32m    887\u001b[0m                     \u001b[1;31m# AttributeError for IntervalTree get_value\u001b[0m\u001b[1;33m\u001b[0m\u001b[1;33m\u001b[0m\u001b[1;33m\u001b[0m\u001b[0m\n\u001b[0;32m    888\u001b[0m                     \u001b[1;32mreturn\u001b[0m \u001b[0mself\u001b[0m\u001b[1;33m.\u001b[0m\u001b[0mobj\u001b[0m\u001b[1;33m.\u001b[0m\u001b[0m_get_value\u001b[0m\u001b[1;33m(\u001b[0m\u001b[1;33m*\u001b[0m\u001b[0mkey\u001b[0m\u001b[1;33m,\u001b[0m \u001b[0mtakeable\u001b[0m\u001b[1;33m=\u001b[0m\u001b[0mself\u001b[0m\u001b[1;33m.\u001b[0m\u001b[0m_takeable\u001b[0m\u001b[1;33m)\u001b[0m\u001b[1;33m\u001b[0m\u001b[1;33m\u001b[0m\u001b[0m\n\u001b[1;32m--> 889\u001b[1;33m             \u001b[1;32mreturn\u001b[0m \u001b[0mself\u001b[0m\u001b[1;33m.\u001b[0m\u001b[0m_getitem_tuple\u001b[0m\u001b[1;33m(\u001b[0m\u001b[0mkey\u001b[0m\u001b[1;33m)\u001b[0m\u001b[1;33m\u001b[0m\u001b[1;33m\u001b[0m\u001b[0m\n\u001b[0m\u001b[0;32m    890\u001b[0m         \u001b[1;32melse\u001b[0m\u001b[1;33m:\u001b[0m\u001b[1;33m\u001b[0m\u001b[1;33m\u001b[0m\u001b[0m\n\u001b[0;32m    891\u001b[0m             \u001b[1;31m# we by definition only have the 0th axis\u001b[0m\u001b[1;33m\u001b[0m\u001b[1;33m\u001b[0m\u001b[1;33m\u001b[0m\u001b[0m\n",
      "\u001b[1;32m~\\Anaconda3\\lib\\site-packages\\pandas\\core\\indexing.py\u001b[0m in \u001b[0;36m_getitem_tuple\u001b[1;34m(self, tup)\u001b[0m\n\u001b[0;32m   1448\u001b[0m     \u001b[1;32mdef\u001b[0m \u001b[0m_getitem_tuple\u001b[0m\u001b[1;33m(\u001b[0m\u001b[0mself\u001b[0m\u001b[1;33m,\u001b[0m \u001b[0mtup\u001b[0m\u001b[1;33m:\u001b[0m \u001b[0mTuple\u001b[0m\u001b[1;33m)\u001b[0m\u001b[1;33m:\u001b[0m\u001b[1;33m\u001b[0m\u001b[1;33m\u001b[0m\u001b[0m\n\u001b[0;32m   1449\u001b[0m \u001b[1;33m\u001b[0m\u001b[0m\n\u001b[1;32m-> 1450\u001b[1;33m         \u001b[0mself\u001b[0m\u001b[1;33m.\u001b[0m\u001b[0m_has_valid_tuple\u001b[0m\u001b[1;33m(\u001b[0m\u001b[0mtup\u001b[0m\u001b[1;33m)\u001b[0m\u001b[1;33m\u001b[0m\u001b[1;33m\u001b[0m\u001b[0m\n\u001b[0m\u001b[0;32m   1451\u001b[0m         \u001b[1;32mwith\u001b[0m \u001b[0msuppress\u001b[0m\u001b[1;33m(\u001b[0m\u001b[0mIndexingError\u001b[0m\u001b[1;33m)\u001b[0m\u001b[1;33m:\u001b[0m\u001b[1;33m\u001b[0m\u001b[1;33m\u001b[0m\u001b[0m\n\u001b[0;32m   1452\u001b[0m             \u001b[1;32mreturn\u001b[0m \u001b[0mself\u001b[0m\u001b[1;33m.\u001b[0m\u001b[0m_getitem_lowerdim\u001b[0m\u001b[1;33m(\u001b[0m\u001b[0mtup\u001b[0m\u001b[1;33m)\u001b[0m\u001b[1;33m\u001b[0m\u001b[1;33m\u001b[0m\u001b[0m\n",
      "\u001b[1;32m~\\Anaconda3\\lib\\site-packages\\pandas\\core\\indexing.py\u001b[0m in \u001b[0;36m_has_valid_tuple\u001b[1;34m(self, key)\u001b[0m\n\u001b[0;32m    718\u001b[0m         \u001b[0mCheck\u001b[0m \u001b[0mthe\u001b[0m \u001b[0mkey\u001b[0m \u001b[1;32mfor\u001b[0m \u001b[0mvalid\u001b[0m \u001b[0mkeys\u001b[0m \u001b[0macross\u001b[0m \u001b[0mmy\u001b[0m \u001b[0mindexer\u001b[0m\u001b[1;33m.\u001b[0m\u001b[1;33m\u001b[0m\u001b[1;33m\u001b[0m\u001b[0m\n\u001b[0;32m    719\u001b[0m         \"\"\"\n\u001b[1;32m--> 720\u001b[1;33m         \u001b[0mself\u001b[0m\u001b[1;33m.\u001b[0m\u001b[0m_validate_key_length\u001b[0m\u001b[1;33m(\u001b[0m\u001b[0mkey\u001b[0m\u001b[1;33m)\u001b[0m\u001b[1;33m\u001b[0m\u001b[1;33m\u001b[0m\u001b[0m\n\u001b[0m\u001b[0;32m    721\u001b[0m         \u001b[1;32mfor\u001b[0m \u001b[0mi\u001b[0m\u001b[1;33m,\u001b[0m \u001b[0mk\u001b[0m \u001b[1;32min\u001b[0m \u001b[0menumerate\u001b[0m\u001b[1;33m(\u001b[0m\u001b[0mkey\u001b[0m\u001b[1;33m)\u001b[0m\u001b[1;33m:\u001b[0m\u001b[1;33m\u001b[0m\u001b[1;33m\u001b[0m\u001b[0m\n\u001b[0;32m    722\u001b[0m             \u001b[1;32mtry\u001b[0m\u001b[1;33m:\u001b[0m\u001b[1;33m\u001b[0m\u001b[1;33m\u001b[0m\u001b[0m\n",
      "\u001b[1;32m~\\Anaconda3\\lib\\site-packages\\pandas\\core\\indexing.py\u001b[0m in \u001b[0;36m_validate_key_length\u001b[1;34m(self, key)\u001b[0m\n\u001b[0;32m    759\u001b[0m     \u001b[1;32mdef\u001b[0m \u001b[0m_validate_key_length\u001b[0m\u001b[1;33m(\u001b[0m\u001b[0mself\u001b[0m\u001b[1;33m,\u001b[0m \u001b[0mkey\u001b[0m\u001b[1;33m:\u001b[0m \u001b[0mSequence\u001b[0m\u001b[1;33m[\u001b[0m\u001b[0mAny\u001b[0m\u001b[1;33m]\u001b[0m\u001b[1;33m)\u001b[0m \u001b[1;33m->\u001b[0m \u001b[1;32mNone\u001b[0m\u001b[1;33m:\u001b[0m\u001b[1;33m\u001b[0m\u001b[1;33m\u001b[0m\u001b[0m\n\u001b[0;32m    760\u001b[0m         \u001b[1;32mif\u001b[0m \u001b[0mlen\u001b[0m\u001b[1;33m(\u001b[0m\u001b[0mkey\u001b[0m\u001b[1;33m)\u001b[0m \u001b[1;33m>\u001b[0m \u001b[0mself\u001b[0m\u001b[1;33m.\u001b[0m\u001b[0mndim\u001b[0m\u001b[1;33m:\u001b[0m\u001b[1;33m\u001b[0m\u001b[1;33m\u001b[0m\u001b[0m\n\u001b[1;32m--> 761\u001b[1;33m             \u001b[1;32mraise\u001b[0m \u001b[0mIndexingError\u001b[0m\u001b[1;33m(\u001b[0m\u001b[1;34m\"Too many indexers\"\u001b[0m\u001b[1;33m)\u001b[0m\u001b[1;33m\u001b[0m\u001b[1;33m\u001b[0m\u001b[0m\n\u001b[0m\u001b[0;32m    762\u001b[0m \u001b[1;33m\u001b[0m\u001b[0m\n\u001b[0;32m    763\u001b[0m     \u001b[1;32mdef\u001b[0m \u001b[0m_getitem_tuple_same_dim\u001b[0m\u001b[1;33m(\u001b[0m\u001b[0mself\u001b[0m\u001b[1;33m,\u001b[0m \u001b[0mtup\u001b[0m\u001b[1;33m:\u001b[0m \u001b[0mTuple\u001b[0m\u001b[1;33m)\u001b[0m\u001b[1;33m:\u001b[0m\u001b[1;33m\u001b[0m\u001b[1;33m\u001b[0m\u001b[0m\n",
      "\u001b[1;31mIndexingError\u001b[0m: Too many indexers"
     ]
    }
   ],
   "source": [
    "from sklearn import svm, datasets\n",
    "main(df,'categoryTon',features = ['categoryM3','barge_M2'])"
   ]
  },
  {
   "cell_type": "code",
   "execution_count": 38,
   "metadata": {
    "scrolled": true
   },
   "outputs": [
    {
     "name": "stdout",
     "output_type": "stream",
     "text": [
      "GaussianNB prediction accuracy: 0.8\n",
      "SVC prediction accuracy: 0.45\n",
      "RandomForestClassifier prediction accuracy: 0.9\n"
     ]
    }
   ],
   "source": [
    "categoryTon_clf_gbn, categoryTon_acc_gbn = prediction(GaussianNB(),df,'categoryM3',['categoryTon','barge_M2'])\n",
    "categoryTon_clf_svc, categoryTon_acc_svc = prediction(SVC(),df,'categoryM3',['categoryTon','barge_M2'])\n",
    "categoryTon_clf_rfc, categoryTon_acc_rfc = prediction(RandomForestClassifier(),df,'categoryM3',['categoryTon','barge_M2'])\n",
    "\n",
    "print('GaussianNB prediction accuracy: {}'.format(round(acc_gbn,2)))\n",
    "print('SVC prediction accuracy: {}'.format(round(acc_svc,2)))\n",
    "print('RandomForestClassifier prediction accuracy: {}'.format(round(acc_rfc,2)))"
   ]
  },
  {
   "cell_type": "code",
   "execution_count": 61,
   "metadata": {},
   "outputs": [
    {
     "name": "stdout",
     "output_type": "stream",
     "text": [
      "GaussianNB prediction accuracy: 0.86\n",
      "SVC prediction accuracy: 0.53\n",
      "RandomForestClassifier prediction accuracy: 0.9\n"
     ]
    }
   ],
   "source": [
    "categoryM3_clf_gbn, categoryM3_acc_gbn = prediction(GaussianNB(),df,'categoryM3',['barge_M2','categoryTon'])\n",
    "categoryM3_clf_svc, categoryM3_acc_svc = prediction(SVC(),df,'categoryM3',['barge_M2','categoryTon'])\n",
    "categoryM3_clf_rfc, categoryM3_acc_rfc = prediction(RandomForestClassifier(),df,'categoryM3',['barge_M2','categoryTon'])\n",
    "\n",
    "\n",
    "\n",
    "\n",
    "print('GaussianNB prediction accuracy: {}'.format(round(categoryM3_acc_gbn,2)))\n",
    "print('SVC prediction accuracy: {}'.format(round(categoryM3_acc_svc,2)))\n",
    "print('RandomForestClassifier prediction accuracy: {}'.format(round(categoryM3_acc_rfc,2)))"
   ]
  },
  {
   "cell_type": "code",
   "execution_count": null,
   "metadata": {},
   "outputs": [],
   "source": []
  },
  {
   "cell_type": "code",
   "execution_count": 39,
   "metadata": {
    "scrolled": true
   },
   "outputs": [
    {
     "name": "stdout",
     "output_type": "stream",
     "text": [
      "GaussianNB prediction accuracy: 0.52\n",
      "SVC prediction accuracy: 0.49\n",
      "RandomForestClassifier prediction accuracy: 0.57\n",
      "LogisticRegression prediction accuracy: 0.17\n"
     ]
    }
   ],
   "source": [
    "categoryTon2_clf1_gbn, categoryTon2_acc_gbn = prediction(GaussianNB(),df,'categoryTon',['barge_M2'])\n",
    "categoryTon2_clf_svc, categoryTon2_acc_svc = prediction(SVC(),df,'categoryTon',['barge_M2'])\n",
    "categoryTon2_clf_rfc, categoryTon2_acc_rfc = prediction(RandomForestClassifier(),df,'categoryTon',['barge_M2'])\n",
    "\n",
    "\n",
    "\n",
    "\n",
    "print('GaussianNB prediction accuracy: {}'.format(round(acc1_gbn,2)))\n",
    "print('SVC prediction accuracy: {}'.format(round(acc1_svc,2)))\n",
    "print('RandomForestClassifier prediction accuracy: {}'.format(round(acc1_rfc,2)))\n",
    "print('LogisticRegression prediction accuracy: {}'.format(round(acc1_lgr,2)))"
   ]
  },
  {
   "cell_type": "code",
   "execution_count": 41,
   "metadata": {},
   "outputs": [],
   "source": [
    "# Create features for missing categoryM3\n",
    "feat = df[(df['categoryM3'].isna()) & (df['categoryTon'].notna())][['categoryTon','barge_M2']]\n",
    "\n",
    "# Get array of predicted values\n",
    "list_val = clf_gbn.predict(feat)\n",
    "\n",
    "# Get indices of missing values\n",
    "ind_val = df[(df['categoryM3'].isna()) & (df['categoryTon'].notna())][['categoryTon','barge_M2']].index\n",
    "\n",
    "# Make count for index list_val\n",
    "count = 0\n",
    "\n",
    "for ind in ind_val:\n",
    "    # Add list_val to df.categoryM3 based on index list_val\n",
    "    df.iloc[ind,14] = list_val[count].astype(float)\n",
    "    df.iloc[ind,93] = list_val[count].astype(float)\n",
    "    count += 1"
   ]
  },
  {
   "cell_type": "code",
   "execution_count": 42,
   "metadata": {
    "scrolled": true
   },
   "outputs": [
    {
     "name": "stdout",
     "output_type": "stream",
     "text": [
      "check passed\n"
     ]
    }
   ],
   "source": [
    "assert df.iloc[ind_val[0]][14] == 3500\n",
    "assert df.iloc[ind_val[6]][14] == 4500\n",
    "print('check passed')"
   ]
  },
  {
   "cell_type": "code",
   "execution_count": 43,
   "metadata": {},
   "outputs": [],
   "source": [
    "# Create features for missing categoryTon\n",
    "feat1 = np.array(df[(df['categoryTon'].isna()) & (df['barge_M2'].notna())]['barge_M2'])\n",
    "\n",
    "# Get array of predicted values\n",
    "list_val1 = clf1_rfc.predict(feat1.reshape(-1, 1))\n",
    "\n",
    "# Get indices of missing values\n",
    "ind_val1 = df[(df['categoryTon'].isna()) & (df['barge_M2'].notna())]['barge_M2'].index\n",
    "\n",
    "# Make count for index list_val\n",
    "count = 0\n",
    "\n",
    "for ind in ind_val1:\n",
    "    # Add list_val to df.categoryTin based on index list_val\n",
    "    df.iloc[ind,13] = list_val1[count].astype(float)\n",
    "    df.iloc[ind,92] = list_val1[count].astype(float)\n",
    "    count += 1"
   ]
  },
  {
   "cell_type": "code",
   "execution_count": 44,
   "metadata": {
    "scrolled": true
   },
   "outputs": [
    {
     "name": "stdout",
     "output_type": "stream",
     "text": [
      "<class 'pandas.core.frame.DataFrame'>\n",
      "RangeIndex: 547 entries, 0 to 546\n",
      "Data columns (total 94 columns):\n",
      " #   Column                   Non-Null Count  Dtype  \n",
      "---  ------                   --------------  -----  \n",
      " 0   Id                       547 non-null    int64  \n",
      " 1   externalId               0 non-null      float64\n",
      " 2   abbreviation             1 non-null      object \n",
      " 3   Name                     547 non-null    object \n",
      " 4   costCenterId             0 non-null      float64\n",
      " 5   ENI                      547 non-null    int64  \n",
      " 6   MMSI                     547 non-null    float64\n",
      " 7   TypeId                   22 non-null     float64\n",
      " 8   LanguageId               357 non-null    float64\n",
      " 9   classification           0 non-null      float64\n",
      " 10  yearOfBuild              0 non-null      float64\n",
      " 11  yearLastMaintenance      0 non-null      float64\n",
      " 12  Deadweight               547 non-null    float64\n",
      " 13  capacityTon              547 non-null    float64\n",
      " 14  capacityM3               333 non-null    float64\n",
      " 15  capacityTeu              0 non-null      float64\n",
      " 16  lengthCm                 547 non-null    float64\n",
      " 17  widthCm                  547 non-null    float64\n",
      " 18  maxDraughtCm             323 non-null    float64\n",
      " 19  minDraughtCm             323 non-null    float64\n",
      " 20  fuelType                 0 non-null      float64\n",
      " 21  avgVelocityEmptyKmH      0 non-null      float64\n",
      " 22  avgVelocityFullKmH       0 non-null      float64\n",
      " 23  avgFuelConsumptionLtrH   0 non-null      float64\n",
      " 24  avgFuelConsumptionLtrKm  46 non-null     float64\n",
      " 25  bobbyCat                 357 non-null    object \n",
      " 26  sailors                  0 non-null      float64\n",
      " 27  memo                     0 non-null      float64\n",
      " 28  tonnageCertificates      209 non-null    object \n",
      " 29  numReeferConnections     0 non-null      float64\n",
      " 30  dropline                 306 non-null    float64\n",
      " 31  operator_id              252 non-null    float64\n",
      " 32  invoiceContact_id        0 non-null      float64\n",
      " 33  Deprecated               547 non-null    bool   \n",
      " 34  availableMonday          547 non-null    bool   \n",
      " 35  availableTuesday         547 non-null    bool   \n",
      " 36  availableWednesday       547 non-null    bool   \n",
      " 37  availableThursday        547 non-null    bool   \n",
      " 38  availableFriday          547 non-null    bool   \n",
      " 39  availableSaturday        547 non-null    bool   \n",
      " 40  availableSunday          547 non-null    bool   \n",
      " 41  availableHoursADay       378 non-null    float64\n",
      " 42  defaultAvailability      547 non-null    bool   \n",
      " 43  availableDayNight        547 non-null    int64  \n",
      " 44  insurer                  0 non-null      float64\n",
      " 45  vatReference             0 non-null      float64\n",
      " 46  cocReference             0 non-null      float64\n",
      " 47  iban                     0 non-null      float64\n",
      " 48  workingHoursId           0 non-null      float64\n",
      " 49  layerRemark              0 non-null      float64\n",
      " 50  adn                      357 non-null    object \n",
      " 51  trussing                 0 non-null      float64\n",
      " 52  cellGuides               357 non-null    object \n",
      " 53  hasShutters              357 non-null    object \n",
      " 54  shuttersType             0 non-null      float64\n",
      " 55  deckLoad                 0 non-null      float64\n",
      " 56  flag                     357 non-null    object \n",
      " 57  NumRatings               547 non-null    int64  \n",
      " 58  General                  0 non-null      float64\n",
      " 59  Timeliness               0 non-null      float64\n",
      " 60  Communication            0 non-null      float64\n",
      " 61  CargoAvailability        0 non-null      float64\n",
      " 62  WaitingTime              0 non-null      float64\n",
      " 63  Paperwork                0 non-null      float64\n",
      " 64  Payment                  0 non-null      float64\n",
      " 65  Updated                  547 non-null    object \n",
      " 66  createdOn                547 non-null    object \n",
      " 67  coupledShipId            0 non-null      float64\n",
      " 68  isCoupled                547 non-null    bool   \n",
      " 69  showLastProducts         547 non-null    bool   \n",
      " 70  avgSpeedUpstreamKmH      0 non-null      float64\n",
      " 71  avgSpeedDownstreamKmH    0 non-null      float64\n",
      " 72  licensePlate             0 non-null      float64\n",
      " 73  trackTraceProvider       0 non-null      float64\n",
      " 74  maxCranesOnQuay          0 non-null      float64\n",
      " 75  numberOfCranes           0 non-null      float64\n",
      " 76  isDummy                  547 non-null    bool   \n",
      " 77  bic                      0 non-null      float64\n",
      " 78  accountName              0 non-null      float64\n",
      " 79  trackerId                0 non-null      float64\n",
      " 80  owner_id                 310 non-null    float64\n",
      " 81  mmsiUpdated              547 non-null    object \n",
      " 82  retrieveActuals          547 non-null    bool   \n",
      " 83  imo                      0 non-null      float64\n",
      " 84  tracking                 547 non-null    bool   \n",
      " 85  orangeStartAt            1 non-null      float64\n",
      " 86  redStartAt               1 non-null      float64\n",
      " 87  nextCall_id              42 non-null     float64\n",
      " 88  maxTonBallast            0 non-null      float64\n",
      " 89  airDraft                 0 non-null      float64\n",
      " 90  corridor                 0 non-null      float64\n",
      " 91  barge_M2                 547 non-null    float64\n",
      " 92  categoryTon              547 non-null    float64\n",
      " 93  categoryM3               333 non-null    float64\n",
      "dtypes: bool(14), float64(65), int64(4), object(11)\n",
      "memory usage: 349.5+ KB\n"
     ]
    }
   ],
   "source": [
    "df.info()"
   ]
  },
  {
   "cell_type": "code",
   "execution_count": 45,
   "metadata": {},
   "outputs": [],
   "source": [
    "# Create features for missing categoryTon\n",
    "feat2 = np.array(df[(df['categoryM3'].isna()) & (df['barge_M2'].notna())][['barge_M2','categoryTon']])\n",
    "\n",
    "# Get array of predicted values\n",
    "list_val2 = clf2_gbn.predict(feat2)\n",
    "\n",
    "# Get indices of missing values\n",
    "ind_val2 = df[(df['categoryM3'].isna()) & (df['barge_M2'].notna())][['barge_M2','categoryTon']].index\n",
    "\n",
    "# Make count for index list_val\n",
    "count = 0\n",
    "\n",
    "for ind in ind_val1:\n",
    "    # Add list_val to df.categoryTin based on index list_val\n",
    "    df.iloc[ind,14] = list_val2[count].astype(float)\n",
    "    df.iloc[ind,93] = list_val2[count].astype(float)\n",
    "    count += 1"
   ]
  },
  {
   "cell_type": "markdown",
   "metadata": {},
   "source": [
    "## Clean up"
   ]
  },
  {
   "cell_type": "code",
   "execution_count": 46,
   "metadata": {},
   "outputs": [],
   "source": [
    "clean_df = df[['Id','Name','ENI','MMSI','capacityTon','capacityM3','lengthCm','widthCm','maxDraughtCm','minDraughtCm','tonnageCertificates', 'avgFuelConsumptionLtrKm']]"
   ]
  },
  {
   "cell_type": "code",
   "execution_count": 47,
   "metadata": {
    "scrolled": false
   },
   "outputs": [
    {
     "name": "stdout",
     "output_type": "stream",
     "text": [
      "<class 'pandas.core.frame.DataFrame'>\n",
      "RangeIndex: 547 entries, 0 to 546\n",
      "Data columns (total 12 columns):\n",
      " #   Column                   Non-Null Count  Dtype  \n",
      "---  ------                   --------------  -----  \n",
      " 0   Id                       547 non-null    int64  \n",
      " 1   Name                     547 non-null    object \n",
      " 2   ENI                      547 non-null    int64  \n",
      " 3   MMSI                     547 non-null    float64\n",
      " 4   capacityTon              547 non-null    float64\n",
      " 5   capacityM3               547 non-null    float64\n",
      " 6   lengthCm                 547 non-null    float64\n",
      " 7   widthCm                  547 non-null    float64\n",
      " 8   maxDraughtCm             323 non-null    float64\n",
      " 9   minDraughtCm             323 non-null    float64\n",
      " 10  tonnageCertificates      209 non-null    object \n",
      " 11  avgFuelConsumptionLtrKm  46 non-null     float64\n",
      "dtypes: float64(8), int64(2), object(2)\n",
      "memory usage: 51.4+ KB\n"
     ]
    }
   ],
   "source": [
    "clean_df.info()"
   ]
  },
  {
   "cell_type": "code",
   "execution_count": null,
   "metadata": {},
   "outputs": [],
   "source": []
  }
 ],
 "metadata": {
  "kernelspec": {
   "display_name": "Python 3",
   "language": "python",
   "name": "python3"
  },
  "language_info": {
   "codemirror_mode": {
    "name": "ipython",
    "version": 3
   },
   "file_extension": ".py",
   "mimetype": "text/x-python",
   "name": "python",
   "nbconvert_exporter": "python",
   "pygments_lexer": "ipython3",
   "version": "3.7.10"
  }
 },
 "nbformat": 4,
 "nbformat_minor": 2
}
